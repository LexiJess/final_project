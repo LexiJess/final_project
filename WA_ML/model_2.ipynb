{
 "cells": [
  {
   "cell_type": "code",
   "execution_count": 1,
   "metadata": {},
   "outputs": [],
   "source": [
    "import pandas as pd\n",
    "import matplotlib.pyplot as plt\n",
    "import numpy as np"
   ]
  },
  {
   "cell_type": "markdown",
   "metadata": {},
   "source": [
    "# Read the CSV and Perform Basic Data Cleaning"
   ]
  },
  {
   "cell_type": "code",
   "execution_count": 2,
   "metadata": {},
   "outputs": [
    {
     "data": {
      "text/html": [
       "<div>\n",
       "<style scoped>\n",
       "    .dataframe tbody tr th:only-of-type {\n",
       "        vertical-align: middle;\n",
       "    }\n",
       "\n",
       "    .dataframe tbody tr th {\n",
       "        vertical-align: top;\n",
       "    }\n",
       "\n",
       "    .dataframe thead th {\n",
       "        text-align: right;\n",
       "    }\n",
       "</style>\n",
       "<table border=\"1\" class=\"dataframe\">\n",
       "  <thead>\n",
       "    <tr style=\"text-align: right;\">\n",
       "      <th></th>\n",
       "      <th>Country</th>\n",
       "      <th>2010_DR</th>\n",
       "      <th>2011_DR</th>\n",
       "      <th>2012_DR</th>\n",
       "      <th>2013_DR</th>\n",
       "      <th>2014_DR</th>\n",
       "      <th>2015_DR</th>\n",
       "      <th>2016_DR</th>\n",
       "      <th>2017_DR</th>\n",
       "      <th>2018_DR</th>\n",
       "      <th>...</th>\n",
       "      <th>2011_WAE</th>\n",
       "      <th>2012_WAE</th>\n",
       "      <th>2013_WAE</th>\n",
       "      <th>2014_WAE</th>\n",
       "      <th>2015_WAE</th>\n",
       "      <th>2016_WAE</th>\n",
       "      <th>2017_WAE</th>\n",
       "      <th>2018_WAE</th>\n",
       "      <th>2019_WAE</th>\n",
       "      <th>2020_WAE</th>\n",
       "    </tr>\n",
       "  </thead>\n",
       "  <tbody>\n",
       "    <tr>\n",
       "      <th>0</th>\n",
       "      <td>Albania</td>\n",
       "      <td>54.0</td>\n",
       "      <td>53.5</td>\n",
       "      <td>53.0</td>\n",
       "      <td>52.6</td>\n",
       "      <td>52.1</td>\n",
       "      <td>51.6</td>\n",
       "      <td>51.1</td>\n",
       "      <td>50.6</td>\n",
       "      <td>50.1</td>\n",
       "      <td>...</td>\n",
       "      <td>22.0</td>\n",
       "      <td>22.0</td>\n",
       "      <td>22.0</td>\n",
       "      <td>22.0</td>\n",
       "      <td>22.0</td>\n",
       "      <td>22.0</td>\n",
       "      <td>22.0</td>\n",
       "      <td>22.0</td>\n",
       "      <td>22.0</td>\n",
       "      <td>22.0</td>\n",
       "    </tr>\n",
       "    <tr>\n",
       "      <th>1</th>\n",
       "      <td>Angola</td>\n",
       "      <td>99.7</td>\n",
       "      <td>99.3</td>\n",
       "      <td>102.0</td>\n",
       "      <td>105.0</td>\n",
       "      <td>108.0</td>\n",
       "      <td>111.0</td>\n",
       "      <td>114.0</td>\n",
       "      <td>117.0</td>\n",
       "      <td>119.0</td>\n",
       "      <td>...</td>\n",
       "      <td>46.3</td>\n",
       "      <td>46.3</td>\n",
       "      <td>46.3</td>\n",
       "      <td>46.3</td>\n",
       "      <td>46.3</td>\n",
       "      <td>46.3</td>\n",
       "      <td>46.3</td>\n",
       "      <td>46.3</td>\n",
       "      <td>46.3</td>\n",
       "      <td>46.3</td>\n",
       "    </tr>\n",
       "    <tr>\n",
       "      <th>2</th>\n",
       "      <td>Armenia</td>\n",
       "      <td>43.8</td>\n",
       "      <td>44.5</td>\n",
       "      <td>45.2</td>\n",
       "      <td>45.9</td>\n",
       "      <td>46.5</td>\n",
       "      <td>47.2</td>\n",
       "      <td>47.9</td>\n",
       "      <td>48.6</td>\n",
       "      <td>49.3</td>\n",
       "      <td>...</td>\n",
       "      <td>15.3</td>\n",
       "      <td>16.4</td>\n",
       "      <td>17.5</td>\n",
       "      <td>18.7</td>\n",
       "      <td>19.8</td>\n",
       "      <td>20.9</td>\n",
       "      <td>22.1</td>\n",
       "      <td>23.2</td>\n",
       "      <td>24.4</td>\n",
       "      <td>25.5</td>\n",
       "    </tr>\n",
       "    <tr>\n",
       "      <th>3</th>\n",
       "      <td>Azerbaijan</td>\n",
       "      <td>50.9</td>\n",
       "      <td>50.9</td>\n",
       "      <td>50.9</td>\n",
       "      <td>50.9</td>\n",
       "      <td>50.9</td>\n",
       "      <td>50.9</td>\n",
       "      <td>50.9</td>\n",
       "      <td>50.9</td>\n",
       "      <td>50.9</td>\n",
       "      <td>...</td>\n",
       "      <td>17.9</td>\n",
       "      <td>17.9</td>\n",
       "      <td>17.9</td>\n",
       "      <td>17.9</td>\n",
       "      <td>17.9</td>\n",
       "      <td>17.9</td>\n",
       "      <td>17.9</td>\n",
       "      <td>17.9</td>\n",
       "      <td>17.9</td>\n",
       "      <td>17.9</td>\n",
       "    </tr>\n",
       "    <tr>\n",
       "      <th>4</th>\n",
       "      <td>Bangladesh</td>\n",
       "      <td>68.5</td>\n",
       "      <td>67.8</td>\n",
       "      <td>66.3</td>\n",
       "      <td>64.9</td>\n",
       "      <td>63.4</td>\n",
       "      <td>61.8</td>\n",
       "      <td>60.2</td>\n",
       "      <td>58.5</td>\n",
       "      <td>56.9</td>\n",
       "      <td>...</td>\n",
       "      <td>7.1</td>\n",
       "      <td>19.3</td>\n",
       "      <td>31.6</td>\n",
       "      <td>43.8</td>\n",
       "      <td>56.0</td>\n",
       "      <td>68.3</td>\n",
       "      <td>80.5</td>\n",
       "      <td>92.7</td>\n",
       "      <td>105.0</td>\n",
       "      <td>117.0</td>\n",
       "    </tr>\n",
       "  </tbody>\n",
       "</table>\n",
       "<p>5 rows × 164 columns</p>\n",
       "</div>"
      ],
      "text/plain": [
       "      Country  2010_DR  2011_DR  2012_DR  2013_DR  2014_DR  2015_DR  2016_DR  \\\n",
       "0     Albania     54.0     53.5     53.0     52.6     52.1     51.6     51.1   \n",
       "1      Angola     99.7     99.3    102.0    105.0    108.0    111.0    114.0   \n",
       "2     Armenia     43.8     44.5     45.2     45.9     46.5     47.2     47.9   \n",
       "3  Azerbaijan     50.9     50.9     50.9     50.9     50.9     50.9     50.9   \n",
       "4  Bangladesh     68.5     67.8     66.3     64.9     63.4     61.8     60.2   \n",
       "\n",
       "   2017_DR  2018_DR  ...  2011_WAE  2012_WAE  2013_WAE  2014_WAE  2015_WAE  \\\n",
       "0     50.6     50.1  ...      22.0      22.0      22.0      22.0      22.0   \n",
       "1    117.0    119.0  ...      46.3      46.3      46.3      46.3      46.3   \n",
       "2     48.6     49.3  ...      15.3      16.4      17.5      18.7      19.8   \n",
       "3     50.9     50.9  ...      17.9      17.9      17.9      17.9      17.9   \n",
       "4     58.5     56.9  ...       7.1      19.3      31.6      43.8      56.0   \n",
       "\n",
       "   2016_WAE  2017_WAE  2018_WAE  2019_WAE  2020_WAE  \n",
       "0      22.0      22.0      22.0      22.0      22.0  \n",
       "1      46.3      46.3      46.3      46.3      46.3  \n",
       "2      20.9      22.1      23.2      24.4      25.5  \n",
       "3      17.9      17.9      17.9      17.9      17.9  \n",
       "4      68.3      80.5      92.7     105.0     117.0  \n",
       "\n",
       "[5 rows x 164 columns]"
      ]
     },
     "execution_count": 2,
     "metadata": {},
     "output_type": "execute_result"
    }
   ],
   "source": [
    "df = pd.read_csv(\"../Resources/new_all_data2.csv\")\n",
    "# Drop the null columns where all values are null\n",
    "df = df.dropna(axis='columns', how='all')\n",
    "# Drop the null rows\n",
    "df = df.dropna()\n",
    "df = df.drop(['ISO_Code_x'], axis = 1)\n",
    "df.head()"
   ]
  },
  {
   "cell_type": "code",
   "execution_count": 3,
   "metadata": {},
   "outputs": [
    {
     "name": "stdout",
     "output_type": "stream",
     "text": [
      "(68, 162) (68, 1)\n"
     ]
    }
   ],
   "source": [
    "\n",
    "X = df.drop(['GNI/C 2020','Country'], axis = 1)\n",
    "\n",
    "y = df['GNI/C 2020'].values.reshape(-1,1)\n",
    "\n",
    "print(X.shape,y.shape)\n"
   ]
  },
  {
   "cell_type": "markdown",
   "metadata": {},
   "source": [
    "# Create a Train Test Split\n",
    "\n"
   ]
  },
  {
   "cell_type": "code",
   "execution_count": 4,
   "metadata": {},
   "outputs": [],
   "source": [
    "from sklearn.model_selection import train_test_split\n",
    "\n",
    "X_train, X_test, y_train, y_test = train_test_split(X, y, random_state=42)\n",
    "\n",
    "\n"
   ]
  },
  {
   "cell_type": "code",
   "execution_count": 5,
   "metadata": {},
   "outputs": [
    {
     "name": "stdout",
     "output_type": "stream",
     "text": [
      "Training Score: 0.6582947642818731\n",
      "Testing Score: 0.4608508364842223\n"
     ]
    }
   ],
   "source": [
    "from sklearn.neighbors import KNeighborsRegressor \n",
    "model = KNeighborsRegressor(n_neighbors=5)\n",
    "\n",
    "\n",
    "model.fit(X_train, y_train)\n",
    "\n",
    "\n",
    "\n",
    "training_score = model.score(X_train, y_train)\n",
    "testing_score = model.score(X_test, y_test)\n",
    "\n",
    "print(f\"Training Score: {training_score}\")\n",
    "print(f\"Testing Score: {testing_score}\")"
   ]
  },
  {
   "cell_type": "code",
   "execution_count": 6,
   "metadata": {},
   "outputs": [
    {
     "data": {
      "text/plain": [
       "Text(0.5, 1.0, 'Residual Plot')"
      ]
     },
     "execution_count": 6,
     "metadata": {},
     "output_type": "execute_result"
    },
    {
     "data": {
      "image/png": "[encoded data removed]",
      "text/plain": [
       "<Figure size 432x288 with 1 Axes>"
      ]
     },
     "metadata": {
      "needs_background": "light"
     },
     "output_type": "display_data"
    }
   ],
   "source": [
    "plt.scatter(model.predict(X_train), model.predict(X_train) - y_train, c=\"blue\", label=\"Training Data\")\n",
    "plt.scatter(model.predict(X_test), model.predict(X_test) - y_test, c=\"orange\", label=\"Testing Data\")\n",
    "plt.legend()\n",
    "plt.hlines(y=0, xmin=y.min(), xmax=y.max())\n",
    "plt.title(\"Residual Plot\")"
   ]
  },
  {
   "cell_type": "code",
   "execution_count": null,
   "metadata": {},
   "outputs": [],
   "source": []
  }
 ],
 "metadata": {
  "kernel_info": {
   "name": "dev"
  },
  "kernelspec": {
   "display_name": "PythonData",
   "language": "python",
   "name": "pythondata"
  },
  "language_info": {
   "codemirror_mode": {
    "name": "ipython",
    "version": 3
   },
   "file_extension": ".py",
   "mimetype": "text/x-python",
   "name": "python",
   "nbconvert_exporter": "python",
   "pygments_lexer": "ipython3",
   "version": "3.8.5"
  },
  "nteract": {
   "version": "0.12.3"
  }
 },
 "nbformat": 4,
 "nbformat_minor": 4
}
