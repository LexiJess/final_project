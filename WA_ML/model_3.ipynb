{
 "cells": [
  {
   "cell_type": "code",
   "execution_count": 2,
   "metadata": {},
   "outputs": [],
   "source": [
    "import pandas as pd\n",
    "import matplotlib.pyplot as plt\n",
    "import numpy as np\n",
    "import mglearn "
   ]
  },
  {
   "cell_type": "code",
   "execution_count": 5,
   "metadata": {},
   "outputs": [
    {
     "data": {
      "image/png": "[encoded data removed]",
      "text/plain": [
       "<Figure size 720x432 with 1 Axes>"
      ]
     },
     "metadata": {
      "needs_background": "light"
     },
     "output_type": "display_data"
    }
   ],
   "source": [
    "mglearn.plots.plot_knn_regression(n_neighbors=1)"
   ]
  },
  {
   "cell_type": "markdown",
   "metadata": {},
   "source": [
    "# Read the CSV and Perform Basic Data Cleaning"
   ]
  },
  {
   "cell_type": "code",
   "execution_count": 45,
   "metadata": {},
   "outputs": [
    {
     "data": {
      "text/html": [
       "<div>\n",
       "<style scoped>\n",
       "    .dataframe tbody tr th:only-of-type {\n",
       "        vertical-align: middle;\n",
       "    }\n",
       "\n",
       "    .dataframe tbody tr th {\n",
       "        vertical-align: top;\n",
       "    }\n",
       "\n",
       "    .dataframe thead th {\n",
       "        text-align: right;\n",
       "    }\n",
       "</style>\n",
       "<table border=\"1\" class=\"dataframe\">\n",
       "  <thead>\n",
       "    <tr style=\"text-align: right;\">\n",
       "      <th></th>\n",
       "      <th>Country</th>\n",
       "      <th>2010_DR</th>\n",
       "      <th>2011_DR</th>\n",
       "      <th>2012_DR</th>\n",
       "      <th>2013_DR</th>\n",
       "      <th>2014_DR</th>\n",
       "      <th>2015_DR</th>\n",
       "      <th>2016_DR</th>\n",
       "      <th>2017_DR</th>\n",
       "      <th>2018_DR</th>\n",
       "      <th>...</th>\n",
       "      <th>2011_WAE</th>\n",
       "      <th>2012_WAE</th>\n",
       "      <th>2013_WAE</th>\n",
       "      <th>2014_WAE</th>\n",
       "      <th>2015_WAE</th>\n",
       "      <th>2016_WAE</th>\n",
       "      <th>2017_WAE</th>\n",
       "      <th>2018_WAE</th>\n",
       "      <th>2019_WAE</th>\n",
       "      <th>2020_WAE</th>\n",
       "    </tr>\n",
       "  </thead>\n",
       "  <tbody>\n",
       "    <tr>\n",
       "      <th>0</th>\n",
       "      <td>Albania</td>\n",
       "      <td>54.0</td>\n",
       "      <td>53.5</td>\n",
       "      <td>53.0</td>\n",
       "      <td>52.6</td>\n",
       "      <td>52.1</td>\n",
       "      <td>51.6</td>\n",
       "      <td>51.1</td>\n",
       "      <td>50.6</td>\n",
       "      <td>50.1</td>\n",
       "      <td>...</td>\n",
       "      <td>22.0</td>\n",
       "      <td>22.0</td>\n",
       "      <td>22.0</td>\n",
       "      <td>22.0</td>\n",
       "      <td>22.0</td>\n",
       "      <td>22.0</td>\n",
       "      <td>22.0</td>\n",
       "      <td>22.0</td>\n",
       "      <td>22.0</td>\n",
       "      <td>22.0</td>\n",
       "    </tr>\n",
       "    <tr>\n",
       "      <th>1</th>\n",
       "      <td>Angola</td>\n",
       "      <td>99.7</td>\n",
       "      <td>99.3</td>\n",
       "      <td>102.0</td>\n",
       "      <td>105.0</td>\n",
       "      <td>108.0</td>\n",
       "      <td>111.0</td>\n",
       "      <td>114.0</td>\n",
       "      <td>117.0</td>\n",
       "      <td>119.0</td>\n",
       "      <td>...</td>\n",
       "      <td>46.3</td>\n",
       "      <td>46.3</td>\n",
       "      <td>46.3</td>\n",
       "      <td>46.3</td>\n",
       "      <td>46.3</td>\n",
       "      <td>46.3</td>\n",
       "      <td>46.3</td>\n",
       "      <td>46.3</td>\n",
       "      <td>46.3</td>\n",
       "      <td>46.3</td>\n",
       "    </tr>\n",
       "    <tr>\n",
       "      <th>2</th>\n",
       "      <td>Armenia</td>\n",
       "      <td>43.8</td>\n",
       "      <td>44.5</td>\n",
       "      <td>45.2</td>\n",
       "      <td>45.9</td>\n",
       "      <td>46.5</td>\n",
       "      <td>47.2</td>\n",
       "      <td>47.9</td>\n",
       "      <td>48.6</td>\n",
       "      <td>49.3</td>\n",
       "      <td>...</td>\n",
       "      <td>15.3</td>\n",
       "      <td>16.4</td>\n",
       "      <td>17.5</td>\n",
       "      <td>18.7</td>\n",
       "      <td>19.8</td>\n",
       "      <td>20.9</td>\n",
       "      <td>22.1</td>\n",
       "      <td>23.2</td>\n",
       "      <td>24.4</td>\n",
       "      <td>25.5</td>\n",
       "    </tr>\n",
       "    <tr>\n",
       "      <th>3</th>\n",
       "      <td>Azerbaijan</td>\n",
       "      <td>50.9</td>\n",
       "      <td>50.9</td>\n",
       "      <td>50.9</td>\n",
       "      <td>50.9</td>\n",
       "      <td>50.9</td>\n",
       "      <td>50.9</td>\n",
       "      <td>50.9</td>\n",
       "      <td>50.9</td>\n",
       "      <td>50.9</td>\n",
       "      <td>...</td>\n",
       "      <td>17.9</td>\n",
       "      <td>17.9</td>\n",
       "      <td>17.9</td>\n",
       "      <td>17.9</td>\n",
       "      <td>17.9</td>\n",
       "      <td>17.9</td>\n",
       "      <td>17.9</td>\n",
       "      <td>17.9</td>\n",
       "      <td>17.9</td>\n",
       "      <td>17.9</td>\n",
       "    </tr>\n",
       "    <tr>\n",
       "      <th>4</th>\n",
       "      <td>Bangladesh</td>\n",
       "      <td>68.5</td>\n",
       "      <td>67.8</td>\n",
       "      <td>66.3</td>\n",
       "      <td>64.9</td>\n",
       "      <td>63.4</td>\n",
       "      <td>61.8</td>\n",
       "      <td>60.2</td>\n",
       "      <td>58.5</td>\n",
       "      <td>56.9</td>\n",
       "      <td>...</td>\n",
       "      <td>7.1</td>\n",
       "      <td>19.3</td>\n",
       "      <td>31.6</td>\n",
       "      <td>43.8</td>\n",
       "      <td>56.0</td>\n",
       "      <td>68.3</td>\n",
       "      <td>80.5</td>\n",
       "      <td>92.7</td>\n",
       "      <td>105.0</td>\n",
       "      <td>117.0</td>\n",
       "    </tr>\n",
       "  </tbody>\n",
       "</table>\n",
       "<p>5 rows × 167 columns</p>\n",
       "</div>"
      ],
      "text/plain": [
       "      Country  2010_DR  2011_DR  2012_DR  2013_DR  2014_DR  2015_DR  2016_DR  \\\n",
       "0     Albania     54.0     53.5     53.0     52.6     52.1     51.6     51.1   \n",
       "1      Angola     99.7     99.3    102.0    105.0    108.0    111.0    114.0   \n",
       "2     Armenia     43.8     44.5     45.2     45.9     46.5     47.2     47.9   \n",
       "3  Azerbaijan     50.9     50.9     50.9     50.9     50.9     50.9     50.9   \n",
       "4  Bangladesh     68.5     67.8     66.3     64.9     63.4     61.8     60.2   \n",
       "\n",
       "   2017_DR  2018_DR  ...  2011_WAE  2012_WAE  2013_WAE  2014_WAE  2015_WAE  \\\n",
       "0     50.6     50.1  ...      22.0      22.0      22.0      22.0      22.0   \n",
       "1    117.0    119.0  ...      46.3      46.3      46.3      46.3      46.3   \n",
       "2     48.6     49.3  ...      15.3      16.4      17.5      18.7      19.8   \n",
       "3     50.9     50.9  ...      17.9      17.9      17.9      17.9      17.9   \n",
       "4     58.5     56.9  ...       7.1      19.3      31.6      43.8      56.0   \n",
       "\n",
       "   2016_WAE  2017_WAE  2018_WAE  2019_WAE  2020_WAE  \n",
       "0      22.0      22.0      22.0      22.0      22.0  \n",
       "1      46.3      46.3      46.3      46.3      46.3  \n",
       "2      20.9      22.1      23.2      24.4      25.5  \n",
       "3      17.9      17.9      17.9      17.9      17.9  \n",
       "4      68.3      80.5      92.7     105.0     117.0  \n",
       "\n",
       "[5 rows x 167 columns]"
      ]
     },
     "execution_count": 45,
     "metadata": {},
     "output_type": "execute_result"
    }
   ],
   "source": [
    "df = pd.read_csv(\"../Resources/new_all_data2.csv\")\n",
    "# Drop the null columns where all values are null\n",
    "df = df.dropna(axis='columns', how='all')\n",
    "# Drop the null rows\n",
    "df = df.dropna()\n",
    "# df = df.drop(['ISO_Code_x'], axis = 1)\n",
    "df.head()"
   ]
  },
  {
   "cell_type": "code",
   "execution_count": 46,
   "metadata": {},
   "outputs": [
    {
     "data": {
      "text/plain": [
       "array(['Country', '2010_DR', '2011_DR', '2012_DR', '2013_DR', '2014_DR',\n",
       "       '2015_DR', '2016_DR', '2017_DR', '2018_DR', '2019_DR', '2020_DR',\n",
       "       '2010_SC', '2011_SC', '2012_SC', '2013_SC', '2014_SC', '2015_SC',\n",
       "       '2016_SC', '2017_SC', '2018_SC', '2019_SC', '2020_SC', '2010_3BD',\n",
       "       '2011_3BD', '2012_3BD', '2013_3BD', '2014_3BD', '2015_3BD',\n",
       "       '2016_3BD', '2017_3BD', '2018_3BD', '2019_3BD', '2020_3BD',\n",
       "       '2010_HOS', '2011_HOS', '2012_HOS', '2013_HOS', '2014_HOS',\n",
       "       '2015_HOS', '2016_HOS', '2017_HOS', '2018_HOS', '2019_HOS',\n",
       "       '2020_HOS', 'ISO_Code', 'GNI/C 2010', 'GNI/C 2011', 'GNI/C 2012',\n",
       "       'GNI/C 2013', 'GNI/C 2014', 'GNI/C 2015', 'GNI/C 2016',\n",
       "       'GNI/C 2017', 'GNI/C 2018', 'GNI/C 2019', 'GNI/C 2020', '2010',\n",
       "       '2011', '2012', '2013', '2014', '2015', '2016', '2017', '2018',\n",
       "       '2019', '2020', '2010_pop', '2011_pop', '2012_pop', '2013_pop',\n",
       "       '2014_pop', '2015_pop', '2016_pop', '2017_pop', '2018_pop',\n",
       "       '2019_pop', '2020_pop', '2010_urb', '2011_urb', '2012_urb',\n",
       "       '2013_urb', '2014_urb', '2015_urb', '2016_urb', '2017_urb',\n",
       "       '2018_urb', '2019_urb', '2020_urb', '2010_WLE', '2011_WLE',\n",
       "       '2012_WLE', '2013_WLE', '2014_WLE', '2015_WLE', '2016_WLE',\n",
       "       '2017_WLE', '2018_WLE', '2019_WLE', '2020_WLE', '2010_WUE',\n",
       "       '2011_WUE', '2012_WUE', '2013_WUE', '2014_WUE', '2015_WUE',\n",
       "       '2016_WUE', '2017_WUE', '2018_WUE', '2019_WUE', '2020_WUE',\n",
       "       '2010_MYE', '2011_MYE', '2012_MYE', '2013_MYE', '2014_MYE',\n",
       "       '2015_MYE', '2016_MYE', '2017_MYE', '2018_MYE', '2019_MYE',\n",
       "       '2020_MYE', '2010_MAE', '2011_MAE', '2012_MAE', '2013_MAE',\n",
       "       '2014_MAE', '2015_MAE', '2016_MAE', '2017_MAE', '2018_MAE',\n",
       "       '2019_MAE', '2020_MAE', '2010_MLE', '2011_MLE', '2012_MLE',\n",
       "       '2013_MLE', '2014_MLE', '2015_MLE', '2016_MLE', '2017_MLE',\n",
       "       '2018_MLE', '2019_MLE', '2020_MLE', '2010_MUE', '2011_MUE',\n",
       "       '2012_MUE', '2013_MUE', '2014_MUE', '2015_MUE', '2016_MUE',\n",
       "       '2017_MUE', '2018_MUE', '2019_MUE', '2020_MUE', '2010_WAE',\n",
       "       '2011_WAE', '2012_WAE', '2013_WAE', '2014_WAE', '2015_WAE',\n",
       "       '2016_WAE', '2017_WAE', '2018_WAE', '2019_WAE', '2020_WAE'],\n",
       "      dtype=object)"
      ]
     },
     "execution_count": 46,
     "metadata": {},
     "output_type": "execute_result"
    }
   ],
   "source": [
    "df.columns.values"
   ]
  },
  {
   "cell_type": "code",
   "execution_count": 47,
   "metadata": {},
   "outputs": [],
   "source": [
    "# df_2010 = df[[\"2010_DR\", \"2010_SC\", 'GNI/C 2011']].copy()\n",
    "# df_2010.columns = [\"DR\", \"SC\", \"GNI\"]\n",
    "# df_2011 = df[[\"2011_DR\", \"2011_SC\", 'GNI/C 2012']].copy()\n",
    "# df_2011.columns = [\"DR\", \"SC\", \"GNI\"]\n",
    "\n",
    "# df_training = df_2010.append(df_2011, ignore_index=True)\n",
    "\n",
    "# df_2020 = df[[\"County\", \"2011_DR\", \"2011_SC\"]].copy()"
   ]
  },
  {
   "cell_type": "code",
   "execution_count": 48,
   "metadata": {},
   "outputs": [
    {
     "ename": "ValueError",
     "evalue": "Length mismatch: Expected axis has 14 elements, new values have 15 elements",
     "output_type": "error",
     "traceback": [
      "\u001b[1;31m---------------------------------------------------------------------------\u001b[0m",
      "\u001b[1;31mValueError\u001b[0m                                Traceback (most recent call last)",
      "\u001b[1;32m<ipython-input-48-5eb0787125e9>\u001b[0m in \u001b[0;36m<module>\u001b[1;34m\u001b[0m\n\u001b[0;32m      1\u001b[0m \u001b[0mdf_2010\u001b[0m \u001b[1;33m=\u001b[0m \u001b[0mdf\u001b[0m\u001b[1;33m.\u001b[0m\u001b[0mfilter\u001b[0m\u001b[1;33m(\u001b[0m \u001b[1;33m[\u001b[0m\u001b[1;34m\"GNI/C 2011\"\u001b[0m\u001b[1;33m,\u001b[0m\u001b[1;34m\"2010_DR\"\u001b[0m\u001b[1;33m,\u001b[0m \u001b[1;34m\"2010_SC\"\u001b[0m\u001b[1;33m,\u001b[0m\u001b[1;34m\"2010_3BD\"\u001b[0m\u001b[1;33m,\u001b[0m\u001b[1;34m\"2010_HOS\"\u001b[0m\u001b[1;33m,\u001b[0m\u001b[1;34m\"LifeEx 2010\"\u001b[0m\u001b[1;33m,\u001b[0m\u001b[1;34m\"2010_pop\"\u001b[0m\u001b[1;33m,\u001b[0m\u001b[1;34m\"2010_urb\"\u001b[0m\u001b[1;33m,\u001b[0m\u001b[1;34m\"2010_WLE\"\u001b[0m\u001b[1;33m,\u001b[0m\u001b[1;34m\"2010_WUE\"\u001b[0m\u001b[1;33m,\u001b[0m\u001b[1;34m\"2010_MYE\"\u001b[0m\u001b[1;33m,\u001b[0m\u001b[1;34m\"2010_MAE\"\u001b[0m\u001b[1;33m,\u001b[0m\u001b[1;34m\"2010_MLE\"\u001b[0m\u001b[1;33m,\u001b[0m\u001b[1;34m\"2010_MUE\"\u001b[0m\u001b[1;33m,\u001b[0m\u001b[1;34m\"2010_WAE\"\u001b[0m\u001b[1;33m]\u001b[0m\u001b[1;33m,\u001b[0m\u001b[0maxis\u001b[0m\u001b[1;33m=\u001b[0m\u001b[1;36m1\u001b[0m\u001b[1;33m)\u001b[0m\u001b[1;33m.\u001b[0m\u001b[0mcopy\u001b[0m\u001b[1;33m(\u001b[0m\u001b[1;33m)\u001b[0m\u001b[1;33m\u001b[0m\u001b[1;33m\u001b[0m\u001b[0m\n\u001b[1;32m----> 2\u001b[1;33m \u001b[0mdf_2010\u001b[0m\u001b[1;33m.\u001b[0m\u001b[0mcolumns\u001b[0m \u001b[1;33m=\u001b[0m \u001b[1;33m[\u001b[0m\u001b[1;34m\"GNI\"\u001b[0m\u001b[1;33m,\u001b[0m\u001b[1;34m\"DR\"\u001b[0m\u001b[1;33m,\u001b[0m\u001b[1;34m\"SC\"\u001b[0m\u001b[1;33m,\u001b[0m\u001b[1;34m\"3BD\"\u001b[0m\u001b[1;33m,\u001b[0m\u001b[1;34m\"HOS\"\u001b[0m\u001b[1;33m,\u001b[0m\u001b[1;34m\"LifeEx\"\u001b[0m\u001b[1;33m,\u001b[0m\u001b[1;34m\"pop\"\u001b[0m\u001b[1;33m,\u001b[0m\u001b[1;34m\"urb\"\u001b[0m\u001b[1;33m,\u001b[0m\u001b[1;34m\"WLE\"\u001b[0m\u001b[1;33m,\u001b[0m\u001b[1;34m\"WUE\"\u001b[0m\u001b[1;33m,\u001b[0m\u001b[1;34m\"MYE\"\u001b[0m\u001b[1;33m,\u001b[0m\u001b[1;34m\"MAE\"\u001b[0m\u001b[1;33m,\u001b[0m\u001b[1;34m\"MLE\"\u001b[0m\u001b[1;33m,\u001b[0m\u001b[1;34m\"MUE\"\u001b[0m\u001b[1;33m,\u001b[0m\u001b[1;34m\"WAE\"\u001b[0m\u001b[1;33m]\u001b[0m\u001b[1;33m\u001b[0m\u001b[1;33m\u001b[0m\u001b[0m\n\u001b[0m\u001b[0;32m      3\u001b[0m \u001b[1;33m\u001b[0m\u001b[0m\n\u001b[0;32m      4\u001b[0m \u001b[0mdf_2011\u001b[0m \u001b[1;33m=\u001b[0m \u001b[0mdf\u001b[0m\u001b[1;33m.\u001b[0m\u001b[0mfilter\u001b[0m\u001b[1;33m(\u001b[0m \u001b[1;33m[\u001b[0m\u001b[1;34m\"GNI/C 2012\"\u001b[0m\u001b[1;33m,\u001b[0m\u001b[1;34m\"2011_DR\"\u001b[0m\u001b[1;33m,\u001b[0m \u001b[1;34m\"2011_SC\"\u001b[0m\u001b[1;33m,\u001b[0m\u001b[1;34m\"2011_3BD\"\u001b[0m\u001b[1;33m,\u001b[0m\u001b[1;34m\"2011_HOS\"\u001b[0m\u001b[1;33m,\u001b[0m\u001b[1;34m\"LifeEx 2011\"\u001b[0m\u001b[1;33m,\u001b[0m\u001b[1;34m\"2011_pop\"\u001b[0m\u001b[1;33m,\u001b[0m\u001b[1;34m\"2011_urb\"\u001b[0m\u001b[1;33m,\u001b[0m\u001b[1;34m\"2011_WLE\"\u001b[0m\u001b[1;33m,\u001b[0m\u001b[1;34m\"2011_WUE\"\u001b[0m\u001b[1;33m,\u001b[0m\u001b[1;34m\"2011_MYE\"\u001b[0m\u001b[1;33m,\u001b[0m\u001b[1;34m\"2011_MAE\"\u001b[0m\u001b[1;33m,\u001b[0m\u001b[1;34m\"2011_MLE\"\u001b[0m\u001b[1;33m,\u001b[0m\u001b[1;34m\"2011_MUE\"\u001b[0m\u001b[1;33m,\u001b[0m\u001b[1;34m\"2011_WAE\"\u001b[0m\u001b[1;33m]\u001b[0m\u001b[1;33m,\u001b[0m\u001b[0maxis\u001b[0m\u001b[1;33m=\u001b[0m\u001b[1;36m1\u001b[0m\u001b[1;33m)\u001b[0m\u001b[1;33m.\u001b[0m\u001b[0mcopy\u001b[0m\u001b[1;33m(\u001b[0m\u001b[1;33m)\u001b[0m\u001b[1;33m\u001b[0m\u001b[1;33m\u001b[0m\u001b[0m\n\u001b[0;32m      5\u001b[0m \u001b[0mdf_2011\u001b[0m\u001b[1;33m.\u001b[0m\u001b[0mcolumns\u001b[0m \u001b[1;33m=\u001b[0m \u001b[1;33m[\u001b[0m\u001b[1;34m\"GNI\"\u001b[0m\u001b[1;33m,\u001b[0m\u001b[1;34m\"DR\"\u001b[0m\u001b[1;33m,\u001b[0m\u001b[1;34m\"SC\"\u001b[0m\u001b[1;33m,\u001b[0m\u001b[1;34m\"3BD\"\u001b[0m\u001b[1;33m,\u001b[0m\u001b[1;34m\"HOS\"\u001b[0m\u001b[1;33m,\u001b[0m\u001b[1;34m\"LifeEx\"\u001b[0m\u001b[1;33m,\u001b[0m\u001b[1;34m\"pop\"\u001b[0m\u001b[1;33m,\u001b[0m\u001b[1;34m\"urb\"\u001b[0m\u001b[1;33m,\u001b[0m\u001b[1;34m\"WLE\"\u001b[0m\u001b[1;33m,\u001b[0m\u001b[1;34m\"WUE\"\u001b[0m\u001b[1;33m,\u001b[0m\u001b[1;34m\"MYE\"\u001b[0m\u001b[1;33m,\u001b[0m\u001b[1;34m\"MAE\"\u001b[0m\u001b[1;33m,\u001b[0m\u001b[1;34m\"MLE\"\u001b[0m\u001b[1;33m,\u001b[0m\u001b[1;34m\"MUE\"\u001b[0m\u001b[1;33m,\u001b[0m\u001b[1;34m\"WAE\"\u001b[0m\u001b[1;33m]\u001b[0m\u001b[1;33m\u001b[0m\u001b[1;33m\u001b[0m\u001b[0m\n",
      "\u001b[1;32m~\\anaconda3\\envs\\PythonData\\lib\\site-packages\\pandas\\core\\generic.py\u001b[0m in \u001b[0;36m__setattr__\u001b[1;34m(self, name, value)\u001b[0m\n\u001b[0;32m   5141\u001b[0m         \u001b[1;32mtry\u001b[0m\u001b[1;33m:\u001b[0m\u001b[1;33m\u001b[0m\u001b[1;33m\u001b[0m\u001b[0m\n\u001b[0;32m   5142\u001b[0m             \u001b[0mobject\u001b[0m\u001b[1;33m.\u001b[0m\u001b[0m__getattribute__\u001b[0m\u001b[1;33m(\u001b[0m\u001b[0mself\u001b[0m\u001b[1;33m,\u001b[0m \u001b[0mname\u001b[0m\u001b[1;33m)\u001b[0m\u001b[1;33m\u001b[0m\u001b[1;33m\u001b[0m\u001b[0m\n\u001b[1;32m-> 5143\u001b[1;33m             \u001b[1;32mreturn\u001b[0m \u001b[0mobject\u001b[0m\u001b[1;33m.\u001b[0m\u001b[0m__setattr__\u001b[0m\u001b[1;33m(\u001b[0m\u001b[0mself\u001b[0m\u001b[1;33m,\u001b[0m \u001b[0mname\u001b[0m\u001b[1;33m,\u001b[0m \u001b[0mvalue\u001b[0m\u001b[1;33m)\u001b[0m\u001b[1;33m\u001b[0m\u001b[1;33m\u001b[0m\u001b[0m\n\u001b[0m\u001b[0;32m   5144\u001b[0m         \u001b[1;32mexcept\u001b[0m \u001b[0mAttributeError\u001b[0m\u001b[1;33m:\u001b[0m\u001b[1;33m\u001b[0m\u001b[1;33m\u001b[0m\u001b[0m\n\u001b[0;32m   5145\u001b[0m             \u001b[1;32mpass\u001b[0m\u001b[1;33m\u001b[0m\u001b[1;33m\u001b[0m\u001b[0m\n",
      "\u001b[1;32mpandas\\_libs\\properties.pyx\u001b[0m in \u001b[0;36mpandas._libs.properties.AxisProperty.__set__\u001b[1;34m()\u001b[0m\n",
      "\u001b[1;32m~\\anaconda3\\envs\\PythonData\\lib\\site-packages\\pandas\\core\\generic.py\u001b[0m in \u001b[0;36m_set_axis\u001b[1;34m(self, axis, labels)\u001b[0m\n\u001b[0;32m    562\u001b[0m     \u001b[1;32mdef\u001b[0m \u001b[0m_set_axis\u001b[0m\u001b[1;33m(\u001b[0m\u001b[0mself\u001b[0m\u001b[1;33m,\u001b[0m \u001b[0maxis\u001b[0m\u001b[1;33m:\u001b[0m \u001b[0mint\u001b[0m\u001b[1;33m,\u001b[0m \u001b[0mlabels\u001b[0m\u001b[1;33m:\u001b[0m \u001b[0mIndex\u001b[0m\u001b[1;33m)\u001b[0m \u001b[1;33m->\u001b[0m \u001b[1;32mNone\u001b[0m\u001b[1;33m:\u001b[0m\u001b[1;33m\u001b[0m\u001b[1;33m\u001b[0m\u001b[0m\n\u001b[0;32m    563\u001b[0m         \u001b[0mlabels\u001b[0m \u001b[1;33m=\u001b[0m \u001b[0mensure_index\u001b[0m\u001b[1;33m(\u001b[0m\u001b[0mlabels\u001b[0m\u001b[1;33m)\u001b[0m\u001b[1;33m\u001b[0m\u001b[1;33m\u001b[0m\u001b[0m\n\u001b[1;32m--> 564\u001b[1;33m         \u001b[0mself\u001b[0m\u001b[1;33m.\u001b[0m\u001b[0m_mgr\u001b[0m\u001b[1;33m.\u001b[0m\u001b[0mset_axis\u001b[0m\u001b[1;33m(\u001b[0m\u001b[0maxis\u001b[0m\u001b[1;33m,\u001b[0m \u001b[0mlabels\u001b[0m\u001b[1;33m)\u001b[0m\u001b[1;33m\u001b[0m\u001b[1;33m\u001b[0m\u001b[0m\n\u001b[0m\u001b[0;32m    565\u001b[0m         \u001b[0mself\u001b[0m\u001b[1;33m.\u001b[0m\u001b[0m_clear_item_cache\u001b[0m\u001b[1;33m(\u001b[0m\u001b[1;33m)\u001b[0m\u001b[1;33m\u001b[0m\u001b[1;33m\u001b[0m\u001b[0m\n\u001b[0;32m    566\u001b[0m \u001b[1;33m\u001b[0m\u001b[0m\n",
      "\u001b[1;32m~\\anaconda3\\envs\\PythonData\\lib\\site-packages\\pandas\\core\\internals\\managers.py\u001b[0m in \u001b[0;36mset_axis\u001b[1;34m(self, axis, new_labels)\u001b[0m\n\u001b[0;32m    224\u001b[0m \u001b[1;33m\u001b[0m\u001b[0m\n\u001b[0;32m    225\u001b[0m         \u001b[1;32mif\u001b[0m \u001b[0mnew_len\u001b[0m \u001b[1;33m!=\u001b[0m \u001b[0mold_len\u001b[0m\u001b[1;33m:\u001b[0m\u001b[1;33m\u001b[0m\u001b[1;33m\u001b[0m\u001b[0m\n\u001b[1;32m--> 226\u001b[1;33m             raise ValueError(\n\u001b[0m\u001b[0;32m    227\u001b[0m                 \u001b[1;34mf\"Length mismatch: Expected axis has {old_len} elements, new \"\u001b[0m\u001b[1;33m\u001b[0m\u001b[1;33m\u001b[0m\u001b[0m\n\u001b[0;32m    228\u001b[0m                 \u001b[1;34mf\"values have {new_len} elements\"\u001b[0m\u001b[1;33m\u001b[0m\u001b[1;33m\u001b[0m\u001b[0m\n",
      "\u001b[1;31mValueError\u001b[0m: Length mismatch: Expected axis has 14 elements, new values have 15 elements"
     ]
    }
   ],
   "source": [
    "df_2010 = df.filter( [\"GNI/C 2011\",\"2010_DR\", \"2010_SC\",\"2010_3BD\",\"2010_HOS\",\"LifeEx 2010\",\"2010_pop\",\"2010_urb\",\"2010_WLE\",\"2010_WUE\",\"2010_MYE\",\"2010_MAE\",\"2010_MLE\",\"2010_MUE\",\"2010_WAE\"],axis=1).copy()\n",
    "df_2010.columns = [\"GNI\",\"DR\",\"SC\",\"3BD\",\"HOS\",\"LifeEx\",\"pop\",\"urb\",\"WLE\",\"WUE\",\"MYE\",\"MAE\",\"MLE\",\"MUE\",\"WAE\"]\n",
    "\n",
    "df_2011 = df.filter( [\"GNI/C 2012\",\"2011_DR\", \"2011_SC\",\"2011_3BD\",\"2011_HOS\",\"LifeEx 2011\",\"2011_pop\",\"2011_urb\",\"2011_WLE\",\"2011_WUE\",\"2011_MYE\",\"2011_MAE\",\"2011_MLE\",\"2011_MUE\",\"2011_WAE\"],axis=1).copy()\n",
    "df_2011.columns = [\"GNI\",\"DR\",\"SC\",\"3BD\",\"HOS\",\"LifeEx\",\"pop\",\"urb\",\"WLE\",\"WUE\",\"MYE\",\"MAE\",\"MLE\",\"MUE\",\"WAE\"]\n",
    "\n",
    "df_2012 = df.filter( [\"GNI/C 2013\",\"2012_DR\", \"2012_SC\",\"2012_3BD\",\"2012_HOS\",\"LifeEx 2012\",\"2012_pop\",\"2012_urb\",\"2012_WLE\",\"2012_WUE\",\"2012_MYE\",\"2012_MAE\",\"2012_MLE\",\"2012_MUE\",\"2012_WAE\"],axis=1).copy()\n",
    "df_2012.columns = [\"GNI\",\"DR\",\"SC\",\"3BD\",\"HOS\",\"LifeEx\",\"pop\",\"urb\",\"WLE\",\"WUE\",\"MYE\",\"MAE\",\"MLE\",\"MUE\",\"WAE\"]\n",
    "\n",
    "df_2013 = df.filter( [\"GNI/C 2014\",\"2013_DR\", \"2013_SC\",\"2013_3BD\",\"2013_HOS\",\"LifeEx 2013\",\"2013_pop\",\"2013_urb\",\"2013_WLE\",\"2013_WUE\",\"2013_MYE\",\"2013_MAE\",\"2013_MLE\",\"2013_MUE\",\"2013_WAE\"],axis=1).copy()\n",
    "df_2013.columns = [\"GNI\",\"DR\",\"SC\",\"3BD\",\"HOS\",\"LifeEx\",\"pop\",\"urb\",\"WLE\",\"WUE\",\"MYE\",\"MAE\",\"MLE\",\"MUE\",\"WAE\"]\n",
    "\n",
    "df_2014 = df.filter( [\"GNI/C 2015\",\"2014_DR\", \"2014_SC\",\"2014_3BD\",\"2014_HOS\",\"LifeEx 2014\",\"2014_pop\",\"2014_urb\",\"2014_WLE\",\"2014_WUE\",\"2014_MYE\",\"2014_MAE\",\"2014_MLE\",\"2014_MUE\",\"2014_WAE\"],axis=1).copy()\n",
    "df_2014.columns = [\"GNI\",\"DR\",\"SC\",\"3BD\",\"HOS\",\"LifeEx\",\"pop\",\"urb\",\"WLE\",\"WUE\",\"MYE\",\"MAE\",\"MLE\",\"MUE\",\"WAE\"]\n",
    "\n",
    "df_2015 = df.filter( [\"GNI/C 2016\",\"2015_DR\", \"2015_SC\",\"2015_3BD\",\"2015_HOS\",\"LifeEx 2015\",\"2015_pop\",\"2015_urb\",\"2015_WLE\",\"2015_WUE\",\"2015_MYE\",\"2015_MAE\",\"2015_MLE\",\"2015_MUE\",\"2015_WAE\"],axis=1).copy()\n",
    "df_2015.columns = [\"GNI\",\"DR\",\"SC\",\"3BD\",\"HOS\",\"LifeEx\",\"pop\",\"urb\",\"WLE\",\"WUE\",\"MYE\",\"MAE\",\"MLE\",\"MUE\",\"WAE\"]\n",
    "\n",
    "df_2016 = df.filter( [\"GNI/C 2017\",\"2016_DR\", \"2016_SC\",\"2016_3BD\",\"2016_HOS\",\"LifeEx 2016\",\"2016_pop\",\"2016_urb\",\"2016_WLE\",\"2016_WUE\",\"2016_MYE\",\"2016_MAE\",\"2016_MLE\",\"2016_MUE\",\"2016_WAE\"],axis=1).copy()\n",
    "df_2016.columns = [\"GNI\",\"DR\",\"SC\",\"3BD\",\"HOS\",\"LifeEx\",\"pop\",\"urb\",\"WLE\",\"WUE\",\"MYE\",\"MAE\",\"MLE\",\"MUE\",\"WAE\"]\n",
    "\n",
    "df_2017 = df.filter( [\"GNI/C 2018\",\"2017_DR\", \"2017_SC\",\"2017_3BD\",\"2017_HOS\",\"LifeEx 2017\",\"2017_pop\",\"2017_urb\",\"2017_WLE\",\"2017_WUE\",\"2017_MYE\",\"2017_MAE\",\"2017_MLE\",\"2017_MUE\",\"2017_WAE\"],axis=1).copy()\n",
    "df_2017.columns = [\"GNI\",\"DR\",\"SC\",\"3BD\",\"HOS\",\"LifeEx\",\"pop\",\"urb\",\"WLE\",\"WUE\",\"MYE\",\"MAE\",\"MLE\",\"MUE\",\"WAE\"]\n",
    "\n",
    "df_2018 = df.filter( [\"GNI/C 2019\",\"2018_DR\", \"2018_SC\",\"2018_3BD\",\"2018_HOS\",\"LifeEx 2018\",\"2018_pop\",\"2018_urb\",\"2018_WLE\",\"2018_WUE\",\"2018_MYE\",\"2018_MAE\",\"2018_MLE\",\"2018_MUE\",\"2018_WAE\"],axis=1).copy()\n",
    "df_2018.columns = [\"GNI\",\"DR\",\"SC\",\"3BD\",\"HOS\",\"LifeEx\",\"pop\",\"urb\",\"WLE\",\"WUE\",\"MYE\",\"MAE\",\"MLE\",\"MUE\",\"WAE\"]\n",
    "\n",
    "df_2019 = df.filter( [\"GNI/C 2020\",\"2019_DR\", \"2019_SC\",\"2019_3BD\",\"2019_HOS\",\"LifeEx 2019\",\"2019_pop\",\"2019_urb\",\"2019_WLE\",\"2019_WUE\",\"2019_MYE\",\"2019_MAE\",\"2019_MLE\",\"2019_MUE\",\"2019_WAE\"],axis=1).copy()\n",
    "df_2019.columns = [\"GNI\",\"DR\",\"SC\",\"3BD\",\"HOS\",\"LifeEx\",\"pop\",\"urb\",\"WLE\",\"WUE\",\"MYE\",\"MAE\",\"MLE\",\"MUE\",\"WAE\"]\n",
    "\n",
    "df_2010.head()\n",
    "# df_2020 = df.filter( [\"GNI/C 2021\",\"2020_DR\", \"2020_SC\",\"2020_3BD\",\"2020_HOS\",\"LifeEx 2020\",\"2020_pop\",\"2020_urb\",\"2020_WLE\",\"2020_WUE\",\"2020_MYE\",\"2020_MAE\",\"2020_MLE\",\"2020_MUE\",\"2020_WAE\"],axis=1).copy()\n",
    "# df_2020.columns = [\"GNI\",\"DR\",\"SC\",\"3BD\",\"HOS\",\"LifeEx\",\"pop\",\"urb\",\"WLE\",\"WUE\",\"MYE\",\"MAE\",\"MLE\",\"MUE\",\"WAE\"]"
   ]
  },
  {
   "cell_type": "code",
   "execution_count": 28,
   "metadata": {},
   "outputs": [
    {
     "data": {
      "text/html": [
       "<div>\n",
       "<style scoped>\n",
       "    .dataframe tbody tr th:only-of-type {\n",
       "        vertical-align: middle;\n",
       "    }\n",
       "\n",
       "    .dataframe tbody tr th {\n",
       "        vertical-align: top;\n",
       "    }\n",
       "\n",
       "    .dataframe thead th {\n",
       "        text-align: right;\n",
       "    }\n",
       "</style>\n",
       "<table border=\"1\" class=\"dataframe\">\n",
       "  <thead>\n",
       "    <tr style=\"text-align: right;\">\n",
       "      <th></th>\n",
       "      <th>DR</th>\n",
       "      <th>SC</th>\n",
       "      <th>GNI</th>\n",
       "    </tr>\n",
       "  </thead>\n",
       "  <tbody>\n",
       "    <tr>\n",
       "      <th>0</th>\n",
       "      <td>54.0</td>\n",
       "      <td>21.4</td>\n",
       "      <td>10.20</td>\n",
       "    </tr>\n",
       "    <tr>\n",
       "      <th>1</th>\n",
       "      <td>99.7</td>\n",
       "      <td>37.2</td>\n",
       "      <td>5.80</td>\n",
       "    </tr>\n",
       "    <tr>\n",
       "      <th>2</th>\n",
       "      <td>43.8</td>\n",
       "      <td>20.6</td>\n",
       "      <td>7.27</td>\n",
       "    </tr>\n",
       "    <tr>\n",
       "      <th>3</th>\n",
       "      <td>50.9</td>\n",
       "      <td>26.4</td>\n",
       "      <td>14.70</td>\n",
       "    </tr>\n",
       "    <tr>\n",
       "      <th>4</th>\n",
       "      <td>68.5</td>\n",
       "      <td>42.5</td>\n",
       "      <td>2.86</td>\n",
       "    </tr>\n",
       "  </tbody>\n",
       "</table>\n",
       "</div>"
      ],
      "text/plain": [
       "     DR    SC    GNI\n",
       "0  54.0  21.4  10.20\n",
       "1  99.7  37.2   5.80\n",
       "2  43.8  20.6   7.27\n",
       "3  50.9  26.4  14.70\n",
       "4  68.5  42.5   2.86"
      ]
     },
     "execution_count": 28,
     "metadata": {},
     "output_type": "execute_result"
    }
   ],
   "source": [
    "df_training.head()"
   ]
  },
  {
   "cell_type": "code",
   "execution_count": 7,
   "metadata": {},
   "outputs": [
    {
     "name": "stdout",
     "output_type": "stream",
     "text": [
      "(68, 162) (68, 1)\n"
     ]
    }
   ],
   "source": [
    "\n",
    "X = df_training.drop(['GNI'], axis = 1)\n",
    "\n",
    "y = df_training['GNI'].values.reshape(-1,1)\n",
    "\n",
    "print(X.shape,y.shape)\n"
   ]
  },
  {
   "cell_type": "code",
   "execution_count": null,
   "metadata": {},
   "outputs": [],
   "source": [
    "model.predict(df_2020.drop(['GNI'], axis =1))"
   ]
  },
  {
   "cell_type": "markdown",
   "metadata": {},
   "source": [
    "# Create a Train Test Split\n",
    "\n"
   ]
  },
  {
   "cell_type": "code",
   "execution_count": 8,
   "metadata": {},
   "outputs": [],
   "source": [
    "from sklearn.model_selection import train_test_split\n",
    "\n",
    "X_train, X_test, y_train, y_test = train_test_split(X, y, random_state=42)\n",
    "\n",
    "\n"
   ]
  },
  {
   "cell_type": "code",
   "execution_count": 9,
   "metadata": {},
   "outputs": [
    {
     "data": {
      "text/plain": [
       "KNeighborsRegressor(n_neighbors=7)"
      ]
     },
     "execution_count": 9,
     "metadata": {},
     "output_type": "execute_result"
    }
   ],
   "source": [
    "from sklearn.neighbors import KNeighborsRegressor\n",
    "\n",
    "\n",
    "model = KNeighborsRegressor(n_neighbors=7)\n",
    "\n",
    "model.fit(X_train, y_train)"
   ]
  },
  {
   "cell_type": "code",
   "execution_count": 10,
   "metadata": {},
   "outputs": [
    {
     "name": "stdout",
     "output_type": "stream",
     "text": [
      "Training Score: 0.666428055470333\n",
      "Testing Score: 0.5910121152040988\n"
     ]
    }
   ],
   "source": [
    "# print(reg.score(reg.score(X_test, y_test)))\n",
    "\n",
    "training_score = model.score(X_train, y_train)\n",
    "testing_score = model.score(X_test, y_test)\n",
    "\n",
    "print(f\"Training Score: {training_score}\")\n",
    "print(f\"Testing Score: {testing_score}\")"
   ]
  },
  {
   "cell_type": "code",
   "execution_count": 11,
   "metadata": {},
   "outputs": [
    {
     "data": {
      "text/plain": [
       "Text(0.5, 1.0, 'Residual Plot')"
      ]
     },
     "execution_count": 11,
     "metadata": {},
     "output_type": "execute_result"
    },
    {
     "data": {
      "image/png": "[encoded data removed]",
      "text/plain": [
       "<Figure size 432x288 with 1 Axes>"
      ]
     },
     "metadata": {
      "needs_background": "light"
     },
     "output_type": "display_data"
    }
   ],
   "source": [
    "plt.scatter(model.predict(X_train), model.predict(X_train) - y_train, c=\"blue\", label=\"Training Data\")\n",
    "plt.scatter(model.predict(X_test), model.predict(X_test) - y_test, c=\"orange\", label=\"Testing Data\")\n",
    "plt.legend()\n",
    "plt.hlines(y=0, xmin=y.min(), xmax=y.max())\n",
    "plt.title(\"Residual Plot\")"
   ]
  },
  {
   "cell_type": "code",
   "execution_count": 16,
   "metadata": {},
   "outputs": [
    {
     "data": {
      "text/plain": [
       "array([[ 9.85285714],\n",
       "       [ 2.73      ],\n",
       "       [ 5.37857143],\n",
       "       [ 3.16714286],\n",
       "       [ 4.81714286],\n",
       "       [ 4.26142857],\n",
       "       [10.61285714],\n",
       "       [ 2.70714286],\n",
       "       [ 2.53714286],\n",
       "       [ 9.73285714],\n",
       "       [ 4.81714286],\n",
       "       [ 2.57142857],\n",
       "       [ 3.39142857],\n",
       "       [ 8.12857143],\n",
       "       [ 1.61285714],\n",
       "       [ 7.89285714],\n",
       "       [ 2.02714286]])"
      ]
     },
     "execution_count": 16,
     "metadata": {},
     "output_type": "execute_result"
    }
   ],
   "source": [
    "predicted_data =model.predict(X_test)\n",
    "\n",
    "predicted_data"
   ]
  },
  {
   "cell_type": "code",
   "execution_count": null,
   "metadata": {},
   "outputs": [],
   "source": []
  }
 ],
 "metadata": {
  "kernel_info": {
   "name": "dev"
  },
  "kernelspec": {
   "display_name": "PythonData",
   "language": "python",
   "name": "pythondata"
  },
  "language_info": {
   "codemirror_mode": {
    "name": "ipython",
    "version": 3
   },
   "file_extension": ".py",
   "mimetype": "text/x-python",
   "name": "python",
   "nbconvert_exporter": "python",
   "pygments_lexer": "ipython3",
   "version": "3.8.5"
  },
  "nteract": {
   "version": "0.12.3"
  }
 },
 "nbformat": 4,
 "nbformat_minor": 4
}
