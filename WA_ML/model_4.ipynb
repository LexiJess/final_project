{
 "cells": [
  {
   "cell_type": "code",
   "execution_count": 2,
   "metadata": {},
   "outputs": [],
   "source": [
    "import pandas as pd\n",
    "import matplotlib.pyplot as plt\n",
    "import numpy as np\n",
    "import mglearn \n",
    "import os"
   ]
  },
  {
   "cell_type": "markdown",
   "metadata": {},
   "source": [
    "# Read the CSV and Perform Basic Data Cleaning"
   ]
  },
  {
   "cell_type": "code",
   "execution_count": 41,
   "metadata": {},
   "outputs": [
    {
     "data": {
      "text/html": [
       "<div>\n",
       "<style scoped>\n",
       "    .dataframe tbody tr th:only-of-type {\n",
       "        vertical-align: middle;\n",
       "    }\n",
       "\n",
       "    .dataframe tbody tr th {\n",
       "        vertical-align: top;\n",
       "    }\n",
       "\n",
       "    .dataframe thead th {\n",
       "        text-align: right;\n",
       "    }\n",
       "</style>\n",
       "<table border=\"1\" class=\"dataframe\">\n",
       "  <thead>\n",
       "    <tr style=\"text-align: right;\">\n",
       "      <th></th>\n",
       "      <th>Country</th>\n",
       "      <th>2010_DR</th>\n",
       "      <th>2011_DR</th>\n",
       "      <th>2012_DR</th>\n",
       "      <th>2013_DR</th>\n",
       "      <th>2014_DR</th>\n",
       "      <th>2015_DR</th>\n",
       "      <th>2016_DR</th>\n",
       "      <th>2017_DR</th>\n",
       "      <th>2018_DR</th>\n",
       "      <th>...</th>\n",
       "      <th>2011_WAE</th>\n",
       "      <th>2012_WAE</th>\n",
       "      <th>2013_WAE</th>\n",
       "      <th>2014_WAE</th>\n",
       "      <th>2015_WAE</th>\n",
       "      <th>2016_WAE</th>\n",
       "      <th>2017_WAE</th>\n",
       "      <th>2018_WAE</th>\n",
       "      <th>2019_WAE</th>\n",
       "      <th>2020_WAE</th>\n",
       "    </tr>\n",
       "  </thead>\n",
       "  <tbody>\n",
       "    <tr>\n",
       "      <th>0</th>\n",
       "      <td>Albania</td>\n",
       "      <td>54.0</td>\n",
       "      <td>53.5</td>\n",
       "      <td>53.0</td>\n",
       "      <td>52.6</td>\n",
       "      <td>52.1</td>\n",
       "      <td>51.6</td>\n",
       "      <td>51.1</td>\n",
       "      <td>50.6</td>\n",
       "      <td>50.1</td>\n",
       "      <td>...</td>\n",
       "      <td>22.0</td>\n",
       "      <td>22.0</td>\n",
       "      <td>22.0</td>\n",
       "      <td>22.0</td>\n",
       "      <td>22.0</td>\n",
       "      <td>22.0</td>\n",
       "      <td>22.0</td>\n",
       "      <td>22.0</td>\n",
       "      <td>22.0</td>\n",
       "      <td>22.0</td>\n",
       "    </tr>\n",
       "    <tr>\n",
       "      <th>1</th>\n",
       "      <td>Angola</td>\n",
       "      <td>99.7</td>\n",
       "      <td>99.3</td>\n",
       "      <td>102.0</td>\n",
       "      <td>105.0</td>\n",
       "      <td>108.0</td>\n",
       "      <td>111.0</td>\n",
       "      <td>114.0</td>\n",
       "      <td>117.0</td>\n",
       "      <td>119.0</td>\n",
       "      <td>...</td>\n",
       "      <td>46.3</td>\n",
       "      <td>46.3</td>\n",
       "      <td>46.3</td>\n",
       "      <td>46.3</td>\n",
       "      <td>46.3</td>\n",
       "      <td>46.3</td>\n",
       "      <td>46.3</td>\n",
       "      <td>46.3</td>\n",
       "      <td>46.3</td>\n",
       "      <td>46.3</td>\n",
       "    </tr>\n",
       "    <tr>\n",
       "      <th>2</th>\n",
       "      <td>Armenia</td>\n",
       "      <td>43.8</td>\n",
       "      <td>44.5</td>\n",
       "      <td>45.2</td>\n",
       "      <td>45.9</td>\n",
       "      <td>46.5</td>\n",
       "      <td>47.2</td>\n",
       "      <td>47.9</td>\n",
       "      <td>48.6</td>\n",
       "      <td>49.3</td>\n",
       "      <td>...</td>\n",
       "      <td>15.3</td>\n",
       "      <td>16.4</td>\n",
       "      <td>17.5</td>\n",
       "      <td>18.7</td>\n",
       "      <td>19.8</td>\n",
       "      <td>20.9</td>\n",
       "      <td>22.1</td>\n",
       "      <td>23.2</td>\n",
       "      <td>24.4</td>\n",
       "      <td>25.5</td>\n",
       "    </tr>\n",
       "    <tr>\n",
       "      <th>3</th>\n",
       "      <td>Azerbaijan</td>\n",
       "      <td>50.9</td>\n",
       "      <td>50.9</td>\n",
       "      <td>50.9</td>\n",
       "      <td>50.9</td>\n",
       "      <td>50.9</td>\n",
       "      <td>50.9</td>\n",
       "      <td>50.9</td>\n",
       "      <td>50.9</td>\n",
       "      <td>50.9</td>\n",
       "      <td>...</td>\n",
       "      <td>17.9</td>\n",
       "      <td>17.9</td>\n",
       "      <td>17.9</td>\n",
       "      <td>17.9</td>\n",
       "      <td>17.9</td>\n",
       "      <td>17.9</td>\n",
       "      <td>17.9</td>\n",
       "      <td>17.9</td>\n",
       "      <td>17.9</td>\n",
       "      <td>17.9</td>\n",
       "    </tr>\n",
       "    <tr>\n",
       "      <th>4</th>\n",
       "      <td>Bangladesh</td>\n",
       "      <td>68.5</td>\n",
       "      <td>67.8</td>\n",
       "      <td>66.3</td>\n",
       "      <td>64.9</td>\n",
       "      <td>63.4</td>\n",
       "      <td>61.8</td>\n",
       "      <td>60.2</td>\n",
       "      <td>58.5</td>\n",
       "      <td>56.9</td>\n",
       "      <td>...</td>\n",
       "      <td>7.1</td>\n",
       "      <td>19.3</td>\n",
       "      <td>31.6</td>\n",
       "      <td>43.8</td>\n",
       "      <td>56.0</td>\n",
       "      <td>68.3</td>\n",
       "      <td>80.5</td>\n",
       "      <td>92.7</td>\n",
       "      <td>105.0</td>\n",
       "      <td>117.0</td>\n",
       "    </tr>\n",
       "    <tr>\n",
       "      <th>...</th>\n",
       "      <td>...</td>\n",
       "      <td>...</td>\n",
       "      <td>...</td>\n",
       "      <td>...</td>\n",
       "      <td>...</td>\n",
       "      <td>...</td>\n",
       "      <td>...</td>\n",
       "      <td>...</td>\n",
       "      <td>...</td>\n",
       "      <td>...</td>\n",
       "      <td>...</td>\n",
       "      <td>...</td>\n",
       "      <td>...</td>\n",
       "      <td>...</td>\n",
       "      <td>...</td>\n",
       "      <td>...</td>\n",
       "      <td>...</td>\n",
       "      <td>...</td>\n",
       "      <td>...</td>\n",
       "      <td>...</td>\n",
       "      <td>...</td>\n",
       "    </tr>\n",
       "    <tr>\n",
       "      <th>66</th>\n",
       "      <td>Uganda</td>\n",
       "      <td>119.0</td>\n",
       "      <td>118.0</td>\n",
       "      <td>116.0</td>\n",
       "      <td>115.0</td>\n",
       "      <td>113.0</td>\n",
       "      <td>112.0</td>\n",
       "      <td>111.0</td>\n",
       "      <td>109.0</td>\n",
       "      <td>108.0</td>\n",
       "      <td>...</td>\n",
       "      <td>63.4</td>\n",
       "      <td>60.7</td>\n",
       "      <td>57.9</td>\n",
       "      <td>55.2</td>\n",
       "      <td>52.5</td>\n",
       "      <td>49.7</td>\n",
       "      <td>47.4</td>\n",
       "      <td>45.0</td>\n",
       "      <td>42.6</td>\n",
       "      <td>40.3</td>\n",
       "    </tr>\n",
       "    <tr>\n",
       "      <th>68</th>\n",
       "      <td>Vietnam</td>\n",
       "      <td>48.9</td>\n",
       "      <td>48.8</td>\n",
       "      <td>48.8</td>\n",
       "      <td>48.7</td>\n",
       "      <td>48.6</td>\n",
       "      <td>48.5</td>\n",
       "      <td>48.5</td>\n",
       "      <td>48.4</td>\n",
       "      <td>48.3</td>\n",
       "      <td>...</td>\n",
       "      <td>55.0</td>\n",
       "      <td>54.3</td>\n",
       "      <td>53.6</td>\n",
       "      <td>52.9</td>\n",
       "      <td>52.2</td>\n",
       "      <td>51.5</td>\n",
       "      <td>50.8</td>\n",
       "      <td>50.1</td>\n",
       "      <td>49.4</td>\n",
       "      <td>48.7</td>\n",
       "    </tr>\n",
       "    <tr>\n",
       "      <th>69</th>\n",
       "      <td>Yemen</td>\n",
       "      <td>88.1</td>\n",
       "      <td>87.4</td>\n",
       "      <td>86.8</td>\n",
       "      <td>86.1</td>\n",
       "      <td>85.4</td>\n",
       "      <td>84.8</td>\n",
       "      <td>84.1</td>\n",
       "      <td>83.4</td>\n",
       "      <td>82.7</td>\n",
       "      <td>...</td>\n",
       "      <td>57.7</td>\n",
       "      <td>56.2</td>\n",
       "      <td>54.6</td>\n",
       "      <td>53.0</td>\n",
       "      <td>51.4</td>\n",
       "      <td>49.8</td>\n",
       "      <td>48.2</td>\n",
       "      <td>46.6</td>\n",
       "      <td>45.1</td>\n",
       "      <td>43.5</td>\n",
       "    </tr>\n",
       "    <tr>\n",
       "      <th>70</th>\n",
       "      <td>Zambia</td>\n",
       "      <td>109.0</td>\n",
       "      <td>109.0</td>\n",
       "      <td>109.0</td>\n",
       "      <td>109.0</td>\n",
       "      <td>109.0</td>\n",
       "      <td>108.0</td>\n",
       "      <td>106.0</td>\n",
       "      <td>104.0</td>\n",
       "      <td>102.0</td>\n",
       "      <td>...</td>\n",
       "      <td>48.8</td>\n",
       "      <td>49.1</td>\n",
       "      <td>49.3</td>\n",
       "      <td>49.6</td>\n",
       "      <td>46.9</td>\n",
       "      <td>44.2</td>\n",
       "      <td>41.5</td>\n",
       "      <td>38.8</td>\n",
       "      <td>37.0</td>\n",
       "      <td>35.1</td>\n",
       "    </tr>\n",
       "    <tr>\n",
       "      <th>71</th>\n",
       "      <td>Zimbabwe</td>\n",
       "      <td>89.3</td>\n",
       "      <td>88.3</td>\n",
       "      <td>88.8</td>\n",
       "      <td>89.3</td>\n",
       "      <td>89.7</td>\n",
       "      <td>90.2</td>\n",
       "      <td>90.0</td>\n",
       "      <td>89.8</td>\n",
       "      <td>89.5</td>\n",
       "      <td>...</td>\n",
       "      <td>20.6</td>\n",
       "      <td>19.3</td>\n",
       "      <td>17.9</td>\n",
       "      <td>16.5</td>\n",
       "      <td>15.1</td>\n",
       "      <td>14.4</td>\n",
       "      <td>13.7</td>\n",
       "      <td>13.0</td>\n",
       "      <td>12.3</td>\n",
       "      <td>11.5</td>\n",
       "    </tr>\n",
       "  </tbody>\n",
       "</table>\n",
       "<p>68 rows × 167 columns</p>\n",
       "</div>"
      ],
      "text/plain": [
       "       Country  2010_DR  2011_DR  2012_DR  2013_DR  2014_DR  2015_DR  2016_DR  \\\n",
       "0      Albania     54.0     53.5     53.0     52.6     52.1     51.6     51.1   \n",
       "1       Angola     99.7     99.3    102.0    105.0    108.0    111.0    114.0   \n",
       "2      Armenia     43.8     44.5     45.2     45.9     46.5     47.2     47.9   \n",
       "3   Azerbaijan     50.9     50.9     50.9     50.9     50.9     50.9     50.9   \n",
       "4   Bangladesh     68.5     67.8     66.3     64.9     63.4     61.8     60.2   \n",
       "..         ...      ...      ...      ...      ...      ...      ...      ...   \n",
       "66      Uganda    119.0    118.0    116.0    115.0    113.0    112.0    111.0   \n",
       "68     Vietnam     48.9     48.8     48.8     48.7     48.6     48.5     48.5   \n",
       "69       Yemen     88.1     87.4     86.8     86.1     85.4     84.8     84.1   \n",
       "70      Zambia    109.0    109.0    109.0    109.0    109.0    108.0    106.0   \n",
       "71    Zimbabwe     89.3     88.3     88.8     89.3     89.7     90.2     90.0   \n",
       "\n",
       "    2017_DR  2018_DR  ...  2011_WAE  2012_WAE  2013_WAE  2014_WAE  2015_WAE  \\\n",
       "0      50.6     50.1  ...      22.0      22.0      22.0      22.0      22.0   \n",
       "1     117.0    119.0  ...      46.3      46.3      46.3      46.3      46.3   \n",
       "2      48.6     49.3  ...      15.3      16.4      17.5      18.7      19.8   \n",
       "3      50.9     50.9  ...      17.9      17.9      17.9      17.9      17.9   \n",
       "4      58.5     56.9  ...       7.1      19.3      31.6      43.8      56.0   \n",
       "..      ...      ...  ...       ...       ...       ...       ...       ...   \n",
       "66    109.0    108.0  ...      63.4      60.7      57.9      55.2      52.5   \n",
       "68     48.4     48.3  ...      55.0      54.3      53.6      52.9      52.2   \n",
       "69     83.4     82.7  ...      57.7      56.2      54.6      53.0      51.4   \n",
       "70    104.0    102.0  ...      48.8      49.1      49.3      49.6      46.9   \n",
       "71     89.8     89.5  ...      20.6      19.3      17.9      16.5      15.1   \n",
       "\n",
       "    2016_WAE  2017_WAE  2018_WAE  2019_WAE  2020_WAE  \n",
       "0       22.0      22.0      22.0      22.0      22.0  \n",
       "1       46.3      46.3      46.3      46.3      46.3  \n",
       "2       20.9      22.1      23.2      24.4      25.5  \n",
       "3       17.9      17.9      17.9      17.9      17.9  \n",
       "4       68.3      80.5      92.7     105.0     117.0  \n",
       "..       ...       ...       ...       ...       ...  \n",
       "66      49.7      47.4      45.0      42.6      40.3  \n",
       "68      51.5      50.8      50.1      49.4      48.7  \n",
       "69      49.8      48.2      46.6      45.1      43.5  \n",
       "70      44.2      41.5      38.8      37.0      35.1  \n",
       "71      14.4      13.7      13.0      12.3      11.5  \n",
       "\n",
       "[68 rows x 167 columns]"
      ]
     },
     "execution_count": 41,
     "metadata": {},
     "output_type": "execute_result"
    }
   ],
   "source": [
    "df = pd.read_csv(\"../Resources/new_all_data2.csv\")\n",
    "# Drop the null columns where all values are null\n",
    "df = df.dropna(axis='columns', how='all')\n",
    "# Drop the null rows\n",
    "df = df.dropna()\n",
    "# df = df.drop(['ISO_Code_x'], axis = 1)\n",
    "df"
   ]
  },
  {
   "cell_type": "code",
   "execution_count": 42,
   "metadata": {},
   "outputs": [
    {
     "data": {
      "text/plain": [
       "array(['Country', '2010_DR', '2011_DR', '2012_DR', '2013_DR', '2014_DR',\n",
       "       '2015_DR', '2016_DR', '2017_DR', '2018_DR', '2019_DR', '2020_DR',\n",
       "       '2010_SC', '2011_SC', '2012_SC', '2013_SC', '2014_SC', '2015_SC',\n",
       "       '2016_SC', '2017_SC', '2018_SC', '2019_SC', '2020_SC', '2010_3BD',\n",
       "       '2011_3BD', '2012_3BD', '2013_3BD', '2014_3BD', '2015_3BD',\n",
       "       '2016_3BD', '2017_3BD', '2018_3BD', '2019_3BD', '2020_3BD',\n",
       "       '2010_HOS', '2011_HOS', '2012_HOS', '2013_HOS', '2014_HOS',\n",
       "       '2015_HOS', '2016_HOS', '2017_HOS', '2018_HOS', '2019_HOS',\n",
       "       '2020_HOS', 'ISO_Code', 'GNI/C 2010', 'GNI/C 2011', 'GNI/C 2012',\n",
       "       'GNI/C 2013', 'GNI/C 2014', 'GNI/C 2015', 'GNI/C 2016',\n",
       "       'GNI/C 2017', 'GNI/C 2018', 'GNI/C 2019', 'GNI/C 2020',\n",
       "       'LifeEx 2010', 'LifeEx 2011', 'LifeEx 2012', 'LifeEx 2013',\n",
       "       'LifeEx 2014', 'LifeEx 2015', 'LifeEx 2016', 'LifeEx 2017',\n",
       "       'LifeEx 2018', 'LifeEx 2019', 'LifeEx 2020', '2010_pop',\n",
       "       '2011_pop', '2012_pop', '2013_pop', '2014_pop', '2015_pop',\n",
       "       '2016_pop', '2017_pop', '2018_pop', '2019_pop', '2020_pop',\n",
       "       '2010_urb', '2011_urb', '2012_urb', '2013_urb', '2014_urb',\n",
       "       '2015_urb', '2016_urb', '2017_urb', '2018_urb', '2019_urb',\n",
       "       '2020_urb', '2010_WLE', '2011_WLE', '2012_WLE', '2013_WLE',\n",
       "       '2014_WLE', '2015_WLE', '2016_WLE', '2017_WLE', '2018_WLE',\n",
       "       '2019_WLE', '2020_WLE', '2010_WUE', '2011_WUE', '2012_WUE',\n",
       "       '2013_WUE', '2014_WUE', '2015_WUE', '2016_WUE', '2017_WUE',\n",
       "       '2018_WUE', '2019_WUE', '2020_WUE', '2010_MYE', '2011_MYE',\n",
       "       '2012_MYE', '2013_MYE', '2014_MYE', '2015_MYE', '2016_MYE',\n",
       "       '2017_MYE', '2018_MYE', '2019_MYE', '2020_MYE', '2010_MAE',\n",
       "       '2011_MAE', '2012_MAE', '2013_MAE', '2014_MAE', '2015_MAE',\n",
       "       '2016_MAE', '2017_MAE', '2018_MAE', '2019_MAE', '2020_MAE',\n",
       "       '2010_MLE', '2011_MLE', '2012_MLE', '2013_MLE', '2014_MLE',\n",
       "       '2015_MLE', '2016_MLE', '2017_MLE', '2018_MLE', '2019_MLE',\n",
       "       '2020_MLE', '2010_MUE', '2011_MUE', '2012_MUE', '2013_MUE',\n",
       "       '2014_MUE', '2015_MUE', '2016_MUE', '2017_MUE', '2018_MUE',\n",
       "       '2019_MUE', '2020_MUE', '2010_WAE', '2011_WAE', '2012_WAE',\n",
       "       '2013_WAE', '2014_WAE', '2015_WAE', '2016_WAE', '2017_WAE',\n",
       "       '2018_WAE', '2019_WAE', '2020_WAE'], dtype=object)"
      ]
     },
     "execution_count": 42,
     "metadata": {},
     "output_type": "execute_result"
    }
   ],
   "source": [
    "df.columns.values"
   ]
  },
  {
   "cell_type": "code",
   "execution_count": 5,
   "metadata": {},
   "outputs": [],
   "source": [
    "# df_2010 = df[[\"2010_DR\", \"2010_SC\", 'GNI/C 2011']].copy()\n",
    "# df_2010.columns = [\"DR\", \"SC\", \"GNI\"]\n",
    "# df_2011 = df[[\"2011_DR\", \"2011_SC\", 'GNI/C 2012']].copy()\n",
    "# df_2011.columns = [\"DR\", \"SC\", \"GNI\"]\n",
    "\n",
    "\n",
    "\n",
    "df_2020 = df[[\"Country\", \"2011_DR\", \"2011_SC\"]].copy()"
   ]
  },
  {
   "cell_type": "code",
   "execution_count": 32,
   "metadata": {},
   "outputs": [],
   "source": [
    "df_2010 = df.filter( [\"GNI/C 2011\",\"2010_DR\", \"2010_SC\",\"2010_3BD\",\"2010_HOS\",\"LifeEx 2010\",\"2010_pop\",\"2010_urb\",\"2010_WLE\",\"2010_WUE\",\"2010_MYE\",\"2010_MAE\",\"2010_MLE\",\"2010_MUE\",\"2010_WAE\"],axis=1).copy()\n",
    "df_2010.columns = [\"GNI\",\"DR\",\"SC\",\"3BD\",\"HOS\",\"LifeEx\",\"pop\",\"urb\",\"WLE\",\"WUE\",\"MYE\",\"MAE\",\"MLE\",\"MUE\",\"WAE\"]\n",
    "\n",
    "df_2011 = df.filter( [\"GNI/C 2012\",\"2011_DR\", \"2011_SC\",\"2011_3BD\",\"2011_HOS\",\"LifeEx 2011\",\"2011_pop\",\"2011_urb\",\"2011_WLE\",\"2011_WUE\",\"2011_MYE\",\"2011_MAE\",\"2011_MLE\",\"2011_MUE\",\"2011_WAE\"],axis=1).copy()\n",
    "df_2011.columns = [\"GNI\",\"DR\",\"SC\",\"3BD\",\"HOS\",\"LifeEx\",\"pop\",\"urb\",\"WLE\",\"WUE\",\"MYE\",\"MAE\",\"MLE\",\"MUE\",\"WAE\"]\n",
    "\n",
    "df_2012 = df.filter( [\"GNI/C 2013\",\"2012_DR\", \"2012_SC\",\"2012_3BD\",\"2012_HOS\",\"LifeEx 2012\",\"2012_pop\",\"2012_urb\",\"2012_WLE\",\"2012_WUE\",\"2012_MYE\",\"2012_MAE\",\"2012_MLE\",\"2012_MUE\",\"2012_WAE\"],axis=1).copy()\n",
    "df_2012.columns = [\"GNI\",\"DR\",\"SC\",\"3BD\",\"HOS\",\"LifeEx\",\"pop\",\"urb\",\"WLE\",\"WUE\",\"MYE\",\"MAE\",\"MLE\",\"MUE\",\"WAE\"]\n",
    "\n",
    "df_2013 = df.filter( [\"GNI/C 2014\",\"2013_DR\", \"2013_SC\",\"2013_3BD\",\"2013_HOS\",\"LifeEx 2013\",\"2013_pop\",\"2013_urb\",\"2013_WLE\",\"2013_WUE\",\"2013_MYE\",\"2013_MAE\",\"2013_MLE\",\"2013_MUE\",\"2013_WAE\"],axis=1).copy()\n",
    "df_2013.columns = [\"GNI\",\"DR\",\"SC\",\"3BD\",\"HOS\",\"LifeEx\",\"pop\",\"urb\",\"WLE\",\"WUE\",\"MYE\",\"MAE\",\"MLE\",\"MUE\",\"WAE\"]\n",
    "\n",
    "df_2014 = df.filter( [\"GNI/C 2015\",\"2014_DR\", \"2014_SC\",\"2014_3BD\",\"2014_HOS\",\"LifeEx 2014\",\"2014_pop\",\"2014_urb\",\"2014_WLE\",\"2014_WUE\",\"2014_MYE\",\"2014_MAE\",\"2014_MLE\",\"2014_MUE\",\"2014_WAE\"],axis=1).copy()\n",
    "df_2014.columns = [\"GNI\",\"DR\",\"SC\",\"3BD\",\"HOS\",\"LifeEx\",\"pop\",\"urb\",\"WLE\",\"WUE\",\"MYE\",\"MAE\",\"MLE\",\"MUE\",\"WAE\"]\n",
    "\n",
    "df_2015 = df.filter( [\"GNI/C 2016\",\"2015_DR\", \"2015_SC\",\"2015_3BD\",\"2015_HOS\",\"LifeEx 2015\",\"2015_pop\",\"2015_urb\",\"2015_WLE\",\"2015_WUE\",\"2015_MYE\",\"2015_MAE\",\"2015_MLE\",\"2015_MUE\",\"2015_WAE\"],axis=1).copy()\n",
    "df_2015.columns = [\"GNI\",\"DR\",\"SC\",\"3BD\",\"HOS\",\"LifeEx\",\"pop\",\"urb\",\"WLE\",\"WUE\",\"MYE\",\"MAE\",\"MLE\",\"MUE\",\"WAE\"]\n",
    "\n",
    "df_2016 = df.filter( [\"GNI/C 2017\",\"2016_DR\", \"2016_SC\",\"2016_3BD\",\"2016_HOS\",\"LifeEx 2016\",\"2016_pop\",\"2016_urb\",\"2016_WLE\",\"2016_WUE\",\"2016_MYE\",\"2016_MAE\",\"2016_MLE\",\"2016_MUE\",\"2016_WAE\"],axis=1).copy()\n",
    "df_2016.columns = [\"GNI\",\"DR\",\"SC\",\"3BD\",\"HOS\",\"LifeEx\",\"pop\",\"urb\",\"WLE\",\"WUE\",\"MYE\",\"MAE\",\"MLE\",\"MUE\",\"WAE\"]\n",
    "\n",
    "df_2017 = df.filter( [\"GNI/C 2018\",\"2017_DR\", \"2017_SC\",\"2017_3BD\",\"2017_HOS\",\"LifeEx 2017\",\"2017_pop\",\"2017_urb\",\"2017_WLE\",\"2017_WUE\",\"2017_MYE\",\"2017_MAE\",\"2017_MLE\",\"2017_MUE\",\"2017_WAE\"],axis=1).copy()\n",
    "df_2017.columns = [\"GNI\",\"DR\",\"SC\",\"3BD\",\"HOS\",\"LifeEx\",\"pop\",\"urb\",\"WLE\",\"WUE\",\"MYE\",\"MAE\",\"MLE\",\"MUE\",\"WAE\"]\n",
    "\n",
    "df_2018 = df.filter( [\"GNI/C 2019\",\"2018_DR\", \"2018_SC\",\"2018_3BD\",\"2018_HOS\",\"LifeEx 2018\",\"2018_pop\",\"2018_urb\",\"2018_WLE\",\"2018_WUE\",\"2018_MYE\",\"2018_MAE\",\"2018_MLE\",\"2018_MUE\",\"2018_WAE\"],axis=1).copy()\n",
    "df_2018.columns = [\"GNI\",\"DR\",\"SC\",\"3BD\",\"HOS\",\"LifeEx\",\"pop\",\"urb\",\"WLE\",\"WUE\",\"MYE\",\"MAE\",\"MLE\",\"MUE\",\"WAE\"]\n",
    "\n",
    "df_2019 = df.filter( [\"GNI/C 2020\",\"2019_DR\", \"2019_SC\",\"2019_3BD\",\"2019_HOS\",\"LifeEx 2019\",\"2019_pop\",\"2019_urb\",\"2019_WLE\",\"2019_WUE\",\"2019_MYE\",\"2019_MAE\",\"2019_MLE\",\"2019_MUE\",\"2019_WAE\"],axis=1).copy()\n",
    "df_2019.columns = [\"GNI\",\"DR\",\"SC\",\"3BD\",\"HOS\",\"LifeEx\",\"pop\",\"urb\",\"WLE\",\"WUE\",\"MYE\",\"MAE\",\"MLE\",\"MUE\",\"WAE\"]\n",
    "\n",
    "df_2010\n",
    "\n",
    "df_2020 = df.filter( [\"Country\", \"2020_DR\", \"2020_SC\",\"2020_3BD\",\"2020_HOS\",\"LifeEx 2020\",\"2020_pop\",\"2020_urb\",\"2020_WLE\",\"2020_WUE\",\"2020_MYE\",\"2020_MAE\",\"2020_MLE\",\"2020_MUE\",\"2020_WAE\"],axis=1).copy()\n",
    "df_2020.columns = [\"Country\",\"DR\",\"SC\",\"3BD\",\"HOS\",\"LifeEx\",\"pop\",\"urb\",\"WLE\",\"WUE\",\"MYE\",\"MAE\",\"MLE\",\"MUE\",\"WAE\"]"
   ]
  },
  {
   "cell_type": "code",
   "execution_count": 33,
   "metadata": {},
   "outputs": [
    {
     "data": {
      "text/html": [
       "<div>\n",
       "<style scoped>\n",
       "    .dataframe tbody tr th:only-of-type {\n",
       "        vertical-align: middle;\n",
       "    }\n",
       "\n",
       "    .dataframe tbody tr th {\n",
       "        vertical-align: top;\n",
       "    }\n",
       "\n",
       "    .dataframe thead th {\n",
       "        text-align: right;\n",
       "    }\n",
       "</style>\n",
       "<table border=\"1\" class=\"dataframe\">\n",
       "  <thead>\n",
       "    <tr style=\"text-align: right;\">\n",
       "      <th></th>\n",
       "      <th>GNI</th>\n",
       "      <th>DR</th>\n",
       "      <th>SC</th>\n",
       "      <th>3BD</th>\n",
       "      <th>HOS</th>\n",
       "      <th>LifeEx</th>\n",
       "      <th>pop</th>\n",
       "      <th>urb</th>\n",
       "      <th>WLE</th>\n",
       "      <th>WUE</th>\n",
       "      <th>MYE</th>\n",
       "      <th>MAE</th>\n",
       "      <th>MLE</th>\n",
       "      <th>MUE</th>\n",
       "      <th>WAE</th>\n",
       "    </tr>\n",
       "  </thead>\n",
       "  <tbody>\n",
       "    <tr>\n",
       "      <th>0</th>\n",
       "      <td>10</td>\n",
       "      <td>54.0</td>\n",
       "      <td>21.4</td>\n",
       "      <td>23.2</td>\n",
       "      <td>4.58</td>\n",
       "      <td>76.6</td>\n",
       "      <td>2.92</td>\n",
       "      <td>46.7</td>\n",
       "      <td>55.5</td>\n",
       "      <td>22.60</td>\n",
       "      <td>9.45</td>\n",
       "      <td>21.60</td>\n",
       "      <td>69.6</td>\n",
       "      <td>8.83</td>\n",
       "      <td>22.0</td>\n",
       "    </tr>\n",
       "    <tr>\n",
       "      <th>1</th>\n",
       "      <td>6</td>\n",
       "      <td>99.7</td>\n",
       "      <td>37.2</td>\n",
       "      <td>22.9</td>\n",
       "      <td>6.30</td>\n",
       "      <td>55.4</td>\n",
       "      <td>23.50</td>\n",
       "      <td>43.7</td>\n",
       "      <td>46.4</td>\n",
       "      <td>7.26</td>\n",
       "      <td>5.57</td>\n",
       "      <td>34.50</td>\n",
       "      <td>45.5</td>\n",
       "      <td>19.90</td>\n",
       "      <td>46.3</td>\n",
       "    </tr>\n",
       "    <tr>\n",
       "      <th>2</th>\n",
       "      <td>7</td>\n",
       "      <td>43.8</td>\n",
       "      <td>20.6</td>\n",
       "      <td>28.5</td>\n",
       "      <td>4.55</td>\n",
       "      <td>73.3</td>\n",
       "      <td>2.88</td>\n",
       "      <td>61.9</td>\n",
       "      <td>39.2</td>\n",
       "      <td>46.70</td>\n",
       "      <td>11.40</td>\n",
       "      <td>9.63</td>\n",
       "      <td>72.4</td>\n",
       "      <td>18.00</td>\n",
       "      <td>14.1</td>\n",
       "    </tr>\n",
       "    <tr>\n",
       "      <th>3</th>\n",
       "      <td>15</td>\n",
       "      <td>50.9</td>\n",
       "      <td>26.4</td>\n",
       "      <td>13.8</td>\n",
       "      <td>5.02</td>\n",
       "      <td>70.9</td>\n",
       "      <td>8.49</td>\n",
       "      <td>55.2</td>\n",
       "      <td>33.1</td>\n",
       "      <td>49.00</td>\n",
       "      <td>10.60</td>\n",
       "      <td>13.10</td>\n",
       "      <td>66.5</td>\n",
       "      <td>20.40</td>\n",
       "      <td>17.9</td>\n",
       "    </tr>\n",
       "    <tr>\n",
       "      <th>4</th>\n",
       "      <td>3</td>\n",
       "      <td>68.5</td>\n",
       "      <td>42.5</td>\n",
       "      <td>27.1</td>\n",
       "      <td>6.09</td>\n",
       "      <td>69.9</td>\n",
       "      <td>148.00</td>\n",
       "      <td>23.9</td>\n",
       "      <td>77.5</td>\n",
       "      <td>12.20</td>\n",
       "      <td>4.44</td>\n",
       "      <td>29.40</td>\n",
       "      <td>58.3</td>\n",
       "      <td>12.20</td>\n",
       "      <td>10.3</td>\n",
       "    </tr>\n",
       "  </tbody>\n",
       "</table>\n",
       "</div>"
      ],
      "text/plain": [
       "   GNI    DR    SC   3BD   HOS  LifeEx     pop   urb   WLE    WUE    MYE  \\\n",
       "0   10  54.0  21.4  23.2  4.58    76.6    2.92  46.7  55.5  22.60   9.45   \n",
       "1    6  99.7  37.2  22.9  6.30    55.4   23.50  43.7  46.4   7.26   5.57   \n",
       "2    7  43.8  20.6  28.5  4.55    73.3    2.88  61.9  39.2  46.70  11.40   \n",
       "3   15  50.9  26.4  13.8  5.02    70.9    8.49  55.2  33.1  49.00  10.60   \n",
       "4    3  68.5  42.5  27.1  6.09    69.9  148.00  23.9  77.5  12.20   4.44   \n",
       "\n",
       "     MAE   MLE    MUE   WAE  \n",
       "0  21.60  69.6   8.83  22.0  \n",
       "1  34.50  45.5  19.90  46.3  \n",
       "2   9.63  72.4  18.00  14.1  \n",
       "3  13.10  66.5  20.40  17.9  \n",
       "4  29.40  58.3  12.20  10.3  "
      ]
     },
     "execution_count": 33,
     "metadata": {},
     "output_type": "execute_result"
    }
   ],
   "source": [
    "df_training = df_2010.append((df_2011, df_2012, df_2013, df_2014, df_2015, df_2016, df_2017, df_2018, df_2019,), ignore_index=True)\n",
    "\n",
    "df_training.head()"
   ]
  },
  {
   "cell_type": "code",
   "execution_count": 8,
   "metadata": {},
   "outputs": [
    {
     "name": "stdout",
     "output_type": "stream",
     "text": [
      "(680, 14) (680, 1)\n"
     ]
    }
   ],
   "source": [
    "\n",
    "X = df_training.drop(['GNI'], axis = 1)\n",
    "\n",
    "y = df_training['GNI'].values.reshape(-1,1)\n",
    "\n",
    "print(X.shape,y.shape)\n"
   ]
  },
  {
   "cell_type": "markdown",
   "metadata": {},
   "source": [
    "# Create a Train Test Split\n",
    "\n"
   ]
  },
  {
   "cell_type": "code",
   "execution_count": 9,
   "metadata": {},
   "outputs": [],
   "source": [
    "from sklearn.model_selection import train_test_split\n",
    "\n",
    "X_train, X_test, y_train, y_test = train_test_split(X, y, random_state=42)\n",
    "\n",
    "\n"
   ]
  },
  {
   "cell_type": "code",
   "execution_count": 10,
   "metadata": {},
   "outputs": [
    {
     "name": "stdout",
     "output_type": "stream",
     "text": [
      "Fitting 5 folds for each of 9 candidates, totalling 45 fits\n",
      "[CV] C=1, gamma=0.0001 ...............................................\n"
     ]
    },
    {
     "name": "stderr",
     "output_type": "stream",
     "text": [
      "C:\\Users\\wargr\\anaconda3\\envs\\PythonData\\lib\\site-packages\\sklearn\\model_selection\\_split.py:670: UserWarning: The least populated class in y has only 1 members, which is less than n_splits=5.\n",
      "  warnings.warn((\"The least populated class in y has only %d\"\n",
      "[Parallel(n_jobs=1)]: Using backend SequentialBackend with 1 concurrent workers.\n",
      "C:\\Users\\wargr\\anaconda3\\envs\\PythonData\\lib\\site-packages\\sklearn\\utils\\validation.py:72: DataConversionWarning: A column-vector y was passed when a 1d array was expected. Please change the shape of y to (n_samples, ), for example using ravel().\n",
      "  return f(**kwargs)\n"
     ]
    },
    {
     "name": "stdout",
     "output_type": "stream",
     "text": [
      "[CV] ................... C=1, gamma=0.0001, score=0.657, total=   1.7s\n",
      "[CV] C=1, gamma=0.0001 ...............................................\n"
     ]
    },
    {
     "name": "stderr",
     "output_type": "stream",
     "text": [
      "[Parallel(n_jobs=1)]: Done   1 out of   1 | elapsed:    1.6s remaining:    0.0s\n",
      "C:\\Users\\wargr\\anaconda3\\envs\\PythonData\\lib\\site-packages\\sklearn\\utils\\validation.py:72: DataConversionWarning: A column-vector y was passed when a 1d array was expected. Please change the shape of y to (n_samples, ), for example using ravel().\n",
      "  return f(**kwargs)\n"
     ]
    },
    {
     "name": "stdout",
     "output_type": "stream",
     "text": [
      "[CV] ................... C=1, gamma=0.0001, score=0.716, total=   3.5s\n",
      "[CV] C=1, gamma=0.0001 ...............................................\n"
     ]
    },
    {
     "name": "stderr",
     "output_type": "stream",
     "text": [
      "[Parallel(n_jobs=1)]: Done   2 out of   2 | elapsed:    5.0s remaining:    0.0s\n",
      "C:\\Users\\wargr\\anaconda3\\envs\\PythonData\\lib\\site-packages\\sklearn\\utils\\validation.py:72: DataConversionWarning: A column-vector y was passed when a 1d array was expected. Please change the shape of y to (n_samples, ), for example using ravel().\n",
      "  return f(**kwargs)\n"
     ]
    },
    {
     "name": "stdout",
     "output_type": "stream",
     "text": [
      "[CV] ................... C=1, gamma=0.0001, score=0.667, total=   0.8s\n",
      "[CV] C=1, gamma=0.0001 ...............................................\n"
     ]
    },
    {
     "name": "stderr",
     "output_type": "stream",
     "text": [
      "C:\\Users\\wargr\\anaconda3\\envs\\PythonData\\lib\\site-packages\\sklearn\\utils\\validation.py:72: DataConversionWarning: A column-vector y was passed when a 1d array was expected. Please change the shape of y to (n_samples, ), for example using ravel().\n",
      "  return f(**kwargs)\n"
     ]
    },
    {
     "name": "stdout",
     "output_type": "stream",
     "text": [
      "[CV] ................... C=1, gamma=0.0001, score=0.667, total=   1.4s\n",
      "[CV] C=1, gamma=0.0001 ...............................................\n"
     ]
    },
    {
     "name": "stderr",
     "output_type": "stream",
     "text": [
      "C:\\Users\\wargr\\anaconda3\\envs\\PythonData\\lib\\site-packages\\sklearn\\utils\\validation.py:72: DataConversionWarning: A column-vector y was passed when a 1d array was expected. Please change the shape of y to (n_samples, ), for example using ravel().\n",
      "  return f(**kwargs)\n"
     ]
    },
    {
     "name": "stdout",
     "output_type": "stream",
     "text": [
      "[CV] ................... C=1, gamma=0.0001, score=0.578, total=   2.2s\n",
      "[CV] C=1, gamma=0.001 ................................................\n"
     ]
    },
    {
     "name": "stderr",
     "output_type": "stream",
     "text": [
      "C:\\Users\\wargr\\anaconda3\\envs\\PythonData\\lib\\site-packages\\sklearn\\utils\\validation.py:72: DataConversionWarning: A column-vector y was passed when a 1d array was expected. Please change the shape of y to (n_samples, ), for example using ravel().\n",
      "  return f(**kwargs)\n"
     ]
    },
    {
     "name": "stdout",
     "output_type": "stream",
     "text": [
      "[CV] .................... C=1, gamma=0.001, score=0.657, total=   1.8s\n",
      "[CV] C=1, gamma=0.001 ................................................\n"
     ]
    },
    {
     "name": "stderr",
     "output_type": "stream",
     "text": [
      "C:\\Users\\wargr\\anaconda3\\envs\\PythonData\\lib\\site-packages\\sklearn\\utils\\validation.py:72: DataConversionWarning: A column-vector y was passed when a 1d array was expected. Please change the shape of y to (n_samples, ), for example using ravel().\n",
      "  return f(**kwargs)\n"
     ]
    },
    {
     "name": "stdout",
     "output_type": "stream",
     "text": [
      "[CV] .................... C=1, gamma=0.001, score=0.716, total=   2.6s\n",
      "[CV] C=1, gamma=0.001 ................................................\n"
     ]
    },
    {
     "name": "stderr",
     "output_type": "stream",
     "text": [
      "C:\\Users\\wargr\\anaconda3\\envs\\PythonData\\lib\\site-packages\\sklearn\\utils\\validation.py:72: DataConversionWarning: A column-vector y was passed when a 1d array was expected. Please change the shape of y to (n_samples, ), for example using ravel().\n",
      "  return f(**kwargs)\n"
     ]
    },
    {
     "name": "stdout",
     "output_type": "stream",
     "text": [
      "[CV] .................... C=1, gamma=0.001, score=0.667, total=   1.2s\n",
      "[CV] C=1, gamma=0.001 ................................................\n"
     ]
    },
    {
     "name": "stderr",
     "output_type": "stream",
     "text": [
      "C:\\Users\\wargr\\anaconda3\\envs\\PythonData\\lib\\site-packages\\sklearn\\utils\\validation.py:72: DataConversionWarning: A column-vector y was passed when a 1d array was expected. Please change the shape of y to (n_samples, ), for example using ravel().\n",
      "  return f(**kwargs)\n"
     ]
    },
    {
     "name": "stdout",
     "output_type": "stream",
     "text": [
      "[CV] .................... C=1, gamma=0.001, score=0.667, total=   2.3s\n",
      "[CV] C=1, gamma=0.001 ................................................\n"
     ]
    },
    {
     "name": "stderr",
     "output_type": "stream",
     "text": [
      "C:\\Users\\wargr\\anaconda3\\envs\\PythonData\\lib\\site-packages\\sklearn\\utils\\validation.py:72: DataConversionWarning: A column-vector y was passed when a 1d array was expected. Please change the shape of y to (n_samples, ), for example using ravel().\n",
      "  return f(**kwargs)\n"
     ]
    },
    {
     "name": "stdout",
     "output_type": "stream",
     "text": [
      "[CV] .................... C=1, gamma=0.001, score=0.578, total=   2.8s\n",
      "[CV] C=1, gamma=0.01 .................................................\n"
     ]
    },
    {
     "name": "stderr",
     "output_type": "stream",
     "text": [
      "C:\\Users\\wargr\\anaconda3\\envs\\PythonData\\lib\\site-packages\\sklearn\\utils\\validation.py:72: DataConversionWarning: A column-vector y was passed when a 1d array was expected. Please change the shape of y to (n_samples, ), for example using ravel().\n",
      "  return f(**kwargs)\n"
     ]
    },
    {
     "name": "stdout",
     "output_type": "stream",
     "text": [
      "[CV] ..................... C=1, gamma=0.01, score=0.657, total=   1.9s\n",
      "[CV] C=1, gamma=0.01 .................................................\n"
     ]
    },
    {
     "name": "stderr",
     "output_type": "stream",
     "text": [
      "C:\\Users\\wargr\\anaconda3\\envs\\PythonData\\lib\\site-packages\\sklearn\\utils\\validation.py:72: DataConversionWarning: A column-vector y was passed when a 1d array was expected. Please change the shape of y to (n_samples, ), for example using ravel().\n",
      "  return f(**kwargs)\n"
     ]
    },
    {
     "name": "stdout",
     "output_type": "stream",
     "text": [
      "[CV] ..................... C=1, gamma=0.01, score=0.716, total=   3.8s\n",
      "[CV] C=1, gamma=0.01 .................................................\n"
     ]
    },
    {
     "name": "stderr",
     "output_type": "stream",
     "text": [
      "C:\\Users\\wargr\\anaconda3\\envs\\PythonData\\lib\\site-packages\\sklearn\\utils\\validation.py:72: DataConversionWarning: A column-vector y was passed when a 1d array was expected. Please change the shape of y to (n_samples, ), for example using ravel().\n",
      "  return f(**kwargs)\n"
     ]
    },
    {
     "name": "stdout",
     "output_type": "stream",
     "text": [
      "[CV] ..................... C=1, gamma=0.01, score=0.667, total=   1.5s\n",
      "[CV] C=1, gamma=0.01 .................................................\n"
     ]
    },
    {
     "name": "stderr",
     "output_type": "stream",
     "text": [
      "C:\\Users\\wargr\\anaconda3\\envs\\PythonData\\lib\\site-packages\\sklearn\\utils\\validation.py:72: DataConversionWarning: A column-vector y was passed when a 1d array was expected. Please change the shape of y to (n_samples, ), for example using ravel().\n",
      "  return f(**kwargs)\n"
     ]
    },
    {
     "name": "stdout",
     "output_type": "stream",
     "text": [
      "[CV] ..................... C=1, gamma=0.01, score=0.667, total=   2.6s\n",
      "[CV] C=1, gamma=0.01 .................................................\n"
     ]
    },
    {
     "name": "stderr",
     "output_type": "stream",
     "text": [
      "C:\\Users\\wargr\\anaconda3\\envs\\PythonData\\lib\\site-packages\\sklearn\\utils\\validation.py:72: DataConversionWarning: A column-vector y was passed when a 1d array was expected. Please change the shape of y to (n_samples, ), for example using ravel().\n",
      "  return f(**kwargs)\n"
     ]
    },
    {
     "name": "stdout",
     "output_type": "stream",
     "text": [
      "[CV] ..................... C=1, gamma=0.01, score=0.578, total=   3.1s\n",
      "[CV] C=5, gamma=0.0001 ...............................................\n"
     ]
    },
    {
     "name": "stderr",
     "output_type": "stream",
     "text": [
      "C:\\Users\\wargr\\anaconda3\\envs\\PythonData\\lib\\site-packages\\sklearn\\utils\\validation.py:72: DataConversionWarning: A column-vector y was passed when a 1d array was expected. Please change the shape of y to (n_samples, ), for example using ravel().\n",
      "  return f(**kwargs)\n"
     ]
    },
    {
     "name": "stdout",
     "output_type": "stream",
     "text": [
      "[CV] ................... C=5, gamma=0.0001, score=0.647, total=   8.9s\n",
      "[CV] C=5, gamma=0.0001 ...............................................\n"
     ]
    },
    {
     "name": "stderr",
     "output_type": "stream",
     "text": [
      "C:\\Users\\wargr\\anaconda3\\envs\\PythonData\\lib\\site-packages\\sklearn\\utils\\validation.py:72: DataConversionWarning: A column-vector y was passed when a 1d array was expected. Please change the shape of y to (n_samples, ), for example using ravel().\n",
      "  return f(**kwargs)\n"
     ]
    },
    {
     "name": "stdout",
     "output_type": "stream",
     "text": [
      "[CV] ................... C=5, gamma=0.0001, score=0.745, total=   6.7s\n",
      "[CV] C=5, gamma=0.0001 ...............................................\n"
     ]
    },
    {
     "name": "stderr",
     "output_type": "stream",
     "text": [
      "C:\\Users\\wargr\\anaconda3\\envs\\PythonData\\lib\\site-packages\\sklearn\\utils\\validation.py:72: DataConversionWarning: A column-vector y was passed when a 1d array was expected. Please change the shape of y to (n_samples, ), for example using ravel().\n",
      "  return f(**kwargs)\n"
     ]
    },
    {
     "name": "stdout",
     "output_type": "stream",
     "text": [
      "[CV] ................... C=5, gamma=0.0001, score=0.667, total=   4.7s\n",
      "[CV] C=5, gamma=0.0001 ...............................................\n"
     ]
    },
    {
     "name": "stderr",
     "output_type": "stream",
     "text": [
      "C:\\Users\\wargr\\anaconda3\\envs\\PythonData\\lib\\site-packages\\sklearn\\utils\\validation.py:72: DataConversionWarning: A column-vector y was passed when a 1d array was expected. Please change the shape of y to (n_samples, ), for example using ravel().\n",
      "  return f(**kwargs)\n"
     ]
    },
    {
     "name": "stdout",
     "output_type": "stream",
     "text": [
      "[CV] ................... C=5, gamma=0.0001, score=0.637, total=   7.9s\n",
      "[CV] C=5, gamma=0.0001 ...............................................\n"
     ]
    },
    {
     "name": "stderr",
     "output_type": "stream",
     "text": [
      "C:\\Users\\wargr\\anaconda3\\envs\\PythonData\\lib\\site-packages\\sklearn\\utils\\validation.py:72: DataConversionWarning: A column-vector y was passed when a 1d array was expected. Please change the shape of y to (n_samples, ), for example using ravel().\n",
      "  return f(**kwargs)\n"
     ]
    },
    {
     "name": "stdout",
     "output_type": "stream",
     "text": [
      "[CV] ................... C=5, gamma=0.0001, score=0.637, total=   6.2s\n",
      "[CV] C=5, gamma=0.001 ................................................\n"
     ]
    },
    {
     "name": "stderr",
     "output_type": "stream",
     "text": [
      "C:\\Users\\wargr\\anaconda3\\envs\\PythonData\\lib\\site-packages\\sklearn\\utils\\validation.py:72: DataConversionWarning: A column-vector y was passed when a 1d array was expected. Please change the shape of y to (n_samples, ), for example using ravel().\n",
      "  return f(**kwargs)\n"
     ]
    },
    {
     "name": "stdout",
     "output_type": "stream",
     "text": [
      "[CV] .................... C=5, gamma=0.001, score=0.647, total=   6.1s\n",
      "[CV] C=5, gamma=0.001 ................................................\n"
     ]
    },
    {
     "name": "stderr",
     "output_type": "stream",
     "text": [
      "C:\\Users\\wargr\\anaconda3\\envs\\PythonData\\lib\\site-packages\\sklearn\\utils\\validation.py:72: DataConversionWarning: A column-vector y was passed when a 1d array was expected. Please change the shape of y to (n_samples, ), for example using ravel().\n",
      "  return f(**kwargs)\n"
     ]
    },
    {
     "name": "stdout",
     "output_type": "stream",
     "text": [
      "[CV] .................... C=5, gamma=0.001, score=0.745, total=   5.8s\n",
      "[CV] C=5, gamma=0.001 ................................................\n"
     ]
    },
    {
     "name": "stderr",
     "output_type": "stream",
     "text": [
      "C:\\Users\\wargr\\anaconda3\\envs\\PythonData\\lib\\site-packages\\sklearn\\utils\\validation.py:72: DataConversionWarning: A column-vector y was passed when a 1d array was expected. Please change the shape of y to (n_samples, ), for example using ravel().\n",
      "  return f(**kwargs)\n"
     ]
    },
    {
     "name": "stdout",
     "output_type": "stream",
     "text": [
      "[CV] .................... C=5, gamma=0.001, score=0.667, total=   4.5s\n",
      "[CV] C=5, gamma=0.001 ................................................\n"
     ]
    },
    {
     "name": "stderr",
     "output_type": "stream",
     "text": [
      "C:\\Users\\wargr\\anaconda3\\envs\\PythonData\\lib\\site-packages\\sklearn\\utils\\validation.py:72: DataConversionWarning: A column-vector y was passed when a 1d array was expected. Please change the shape of y to (n_samples, ), for example using ravel().\n",
      "  return f(**kwargs)\n"
     ]
    },
    {
     "name": "stdout",
     "output_type": "stream",
     "text": [
      "[CV] .................... C=5, gamma=0.001, score=0.637, total=   8.5s\n",
      "[CV] C=5, gamma=0.001 ................................................\n"
     ]
    },
    {
     "name": "stderr",
     "output_type": "stream",
     "text": [
      "C:\\Users\\wargr\\anaconda3\\envs\\PythonData\\lib\\site-packages\\sklearn\\utils\\validation.py:72: DataConversionWarning: A column-vector y was passed when a 1d array was expected. Please change the shape of y to (n_samples, ), for example using ravel().\n",
      "  return f(**kwargs)\n"
     ]
    },
    {
     "name": "stdout",
     "output_type": "stream",
     "text": [
      "[CV] .................... C=5, gamma=0.001, score=0.637, total=   6.0s\n",
      "[CV] C=5, gamma=0.01 .................................................\n"
     ]
    },
    {
     "name": "stderr",
     "output_type": "stream",
     "text": [
      "C:\\Users\\wargr\\anaconda3\\envs\\PythonData\\lib\\site-packages\\sklearn\\utils\\validation.py:72: DataConversionWarning: A column-vector y was passed when a 1d array was expected. Please change the shape of y to (n_samples, ), for example using ravel().\n",
      "  return f(**kwargs)\n"
     ]
    },
    {
     "name": "stdout",
     "output_type": "stream",
     "text": [
      "[CV] ..................... C=5, gamma=0.01, score=0.647, total=   7.5s\n",
      "[CV] C=5, gamma=0.01 .................................................\n"
     ]
    },
    {
     "name": "stderr",
     "output_type": "stream",
     "text": [
      "C:\\Users\\wargr\\anaconda3\\envs\\PythonData\\lib\\site-packages\\sklearn\\utils\\validation.py:72: DataConversionWarning: A column-vector y was passed when a 1d array was expected. Please change the shape of y to (n_samples, ), for example using ravel().\n",
      "  return f(**kwargs)\n"
     ]
    },
    {
     "name": "stdout",
     "output_type": "stream",
     "text": [
      "[CV] ..................... C=5, gamma=0.01, score=0.745, total=   8.6s\n",
      "[CV] C=5, gamma=0.01 .................................................\n"
     ]
    },
    {
     "name": "stderr",
     "output_type": "stream",
     "text": [
      "C:\\Users\\wargr\\anaconda3\\envs\\PythonData\\lib\\site-packages\\sklearn\\utils\\validation.py:72: DataConversionWarning: A column-vector y was passed when a 1d array was expected. Please change the shape of y to (n_samples, ), for example using ravel().\n",
      "  return f(**kwargs)\n"
     ]
    },
    {
     "name": "stdout",
     "output_type": "stream",
     "text": [
      "[CV] ..................... C=5, gamma=0.01, score=0.667, total=   5.4s\n",
      "[CV] C=5, gamma=0.01 .................................................\n"
     ]
    },
    {
     "name": "stderr",
     "output_type": "stream",
     "text": [
      "C:\\Users\\wargr\\anaconda3\\envs\\PythonData\\lib\\site-packages\\sklearn\\utils\\validation.py:72: DataConversionWarning: A column-vector y was passed when a 1d array was expected. Please change the shape of y to (n_samples, ), for example using ravel().\n",
      "  return f(**kwargs)\n"
     ]
    },
    {
     "name": "stdout",
     "output_type": "stream",
     "text": [
      "[CV] ..................... C=5, gamma=0.01, score=0.637, total=  11.6s\n",
      "[CV] C=5, gamma=0.01 .................................................\n"
     ]
    },
    {
     "name": "stderr",
     "output_type": "stream",
     "text": [
      "C:\\Users\\wargr\\anaconda3\\envs\\PythonData\\lib\\site-packages\\sklearn\\utils\\validation.py:72: DataConversionWarning: A column-vector y was passed when a 1d array was expected. Please change the shape of y to (n_samples, ), for example using ravel().\n",
      "  return f(**kwargs)\n"
     ]
    },
    {
     "name": "stdout",
     "output_type": "stream",
     "text": [
      "[CV] ..................... C=5, gamma=0.01, score=0.637, total=   8.1s\n",
      "[CV] C=10, gamma=0.0001 ..............................................\n"
     ]
    },
    {
     "name": "stderr",
     "output_type": "stream",
     "text": [
      "C:\\Users\\wargr\\anaconda3\\envs\\PythonData\\lib\\site-packages\\sklearn\\utils\\validation.py:72: DataConversionWarning: A column-vector y was passed when a 1d array was expected. Please change the shape of y to (n_samples, ), for example using ravel().\n",
      "  return f(**kwargs)\n"
     ]
    },
    {
     "name": "stdout",
     "output_type": "stream",
     "text": [
      "[CV] .................. C=10, gamma=0.0001, score=0.637, total=  13.6s\n",
      "[CV] C=10, gamma=0.0001 ..............................................\n"
     ]
    },
    {
     "name": "stderr",
     "output_type": "stream",
     "text": [
      "C:\\Users\\wargr\\anaconda3\\envs\\PythonData\\lib\\site-packages\\sklearn\\utils\\validation.py:72: DataConversionWarning: A column-vector y was passed when a 1d array was expected. Please change the shape of y to (n_samples, ), for example using ravel().\n",
      "  return f(**kwargs)\n"
     ]
    },
    {
     "name": "stdout",
     "output_type": "stream",
     "text": [
      "[CV] .................. C=10, gamma=0.0001, score=0.745, total=  14.7s\n",
      "[CV] C=10, gamma=0.0001 ..............................................\n"
     ]
    },
    {
     "name": "stderr",
     "output_type": "stream",
     "text": [
      "C:\\Users\\wargr\\anaconda3\\envs\\PythonData\\lib\\site-packages\\sklearn\\utils\\validation.py:72: DataConversionWarning: A column-vector y was passed when a 1d array was expected. Please change the shape of y to (n_samples, ), for example using ravel().\n",
      "  return f(**kwargs)\n"
     ]
    },
    {
     "name": "stdout",
     "output_type": "stream",
     "text": [
      "[CV] .................. C=10, gamma=0.0001, score=0.667, total=   9.7s\n",
      "[CV] C=10, gamma=0.0001 ..............................................\n"
     ]
    },
    {
     "name": "stderr",
     "output_type": "stream",
     "text": [
      "C:\\Users\\wargr\\anaconda3\\envs\\PythonData\\lib\\site-packages\\sklearn\\utils\\validation.py:72: DataConversionWarning: A column-vector y was passed when a 1d array was expected. Please change the shape of y to (n_samples, ), for example using ravel().\n",
      "  return f(**kwargs)\n"
     ]
    },
    {
     "name": "stdout",
     "output_type": "stream",
     "text": [
      "[CV] .................. C=10, gamma=0.0001, score=0.657, total=  18.7s\n",
      "[CV] C=10, gamma=0.0001 ..............................................\n"
     ]
    },
    {
     "name": "stderr",
     "output_type": "stream",
     "text": [
      "C:\\Users\\wargr\\anaconda3\\envs\\PythonData\\lib\\site-packages\\sklearn\\utils\\validation.py:72: DataConversionWarning: A column-vector y was passed when a 1d array was expected. Please change the shape of y to (n_samples, ), for example using ravel().\n",
      "  return f(**kwargs)\n"
     ]
    },
    {
     "name": "stdout",
     "output_type": "stream",
     "text": [
      "[CV] .................. C=10, gamma=0.0001, score=0.618, total=  12.0s\n",
      "[CV] C=10, gamma=0.001 ...............................................\n"
     ]
    },
    {
     "name": "stderr",
     "output_type": "stream",
     "text": [
      "C:\\Users\\wargr\\anaconda3\\envs\\PythonData\\lib\\site-packages\\sklearn\\utils\\validation.py:72: DataConversionWarning: A column-vector y was passed when a 1d array was expected. Please change the shape of y to (n_samples, ), for example using ravel().\n",
      "  return f(**kwargs)\n"
     ]
    },
    {
     "name": "stdout",
     "output_type": "stream",
     "text": [
      "[CV] ................... C=10, gamma=0.001, score=0.637, total=   8.0s\n",
      "[CV] C=10, gamma=0.001 ...............................................\n"
     ]
    },
    {
     "name": "stderr",
     "output_type": "stream",
     "text": [
      "C:\\Users\\wargr\\anaconda3\\envs\\PythonData\\lib\\site-packages\\sklearn\\utils\\validation.py:72: DataConversionWarning: A column-vector y was passed when a 1d array was expected. Please change the shape of y to (n_samples, ), for example using ravel().\n",
      "  return f(**kwargs)\n"
     ]
    },
    {
     "name": "stdout",
     "output_type": "stream",
     "text": [
      "[CV] ................... C=10, gamma=0.001, score=0.745, total=  13.1s\n",
      "[CV] C=10, gamma=0.001 ...............................................\n"
     ]
    },
    {
     "name": "stderr",
     "output_type": "stream",
     "text": [
      "C:\\Users\\wargr\\anaconda3\\envs\\PythonData\\lib\\site-packages\\sklearn\\utils\\validation.py:72: DataConversionWarning: A column-vector y was passed when a 1d array was expected. Please change the shape of y to (n_samples, ), for example using ravel().\n",
      "  return f(**kwargs)\n"
     ]
    },
    {
     "name": "stdout",
     "output_type": "stream",
     "text": [
      "[CV] ................... C=10, gamma=0.001, score=0.667, total=  12.5s\n",
      "[CV] C=10, gamma=0.001 ...............................................\n"
     ]
    },
    {
     "name": "stderr",
     "output_type": "stream",
     "text": [
      "C:\\Users\\wargr\\anaconda3\\envs\\PythonData\\lib\\site-packages\\sklearn\\utils\\validation.py:72: DataConversionWarning: A column-vector y was passed when a 1d array was expected. Please change the shape of y to (n_samples, ), for example using ravel().\n",
      "  return f(**kwargs)\n"
     ]
    },
    {
     "name": "stdout",
     "output_type": "stream",
     "text": [
      "[CV] ................... C=10, gamma=0.001, score=0.657, total=  26.5s\n",
      "[CV] C=10, gamma=0.001 ...............................................\n"
     ]
    },
    {
     "name": "stderr",
     "output_type": "stream",
     "text": [
      "C:\\Users\\wargr\\anaconda3\\envs\\PythonData\\lib\\site-packages\\sklearn\\utils\\validation.py:72: DataConversionWarning: A column-vector y was passed when a 1d array was expected. Please change the shape of y to (n_samples, ), for example using ravel().\n",
      "  return f(**kwargs)\n"
     ]
    },
    {
     "name": "stdout",
     "output_type": "stream",
     "text": [
      "[CV] ................... C=10, gamma=0.001, score=0.618, total=  16.7s\n",
      "[CV] C=10, gamma=0.01 ................................................\n"
     ]
    },
    {
     "name": "stderr",
     "output_type": "stream",
     "text": [
      "C:\\Users\\wargr\\anaconda3\\envs\\PythonData\\lib\\site-packages\\sklearn\\utils\\validation.py:72: DataConversionWarning: A column-vector y was passed when a 1d array was expected. Please change the shape of y to (n_samples, ), for example using ravel().\n",
      "  return f(**kwargs)\n"
     ]
    },
    {
     "name": "stdout",
     "output_type": "stream",
     "text": [
      "[CV] .................... C=10, gamma=0.01, score=0.637, total=  11.6s\n",
      "[CV] C=10, gamma=0.01 ................................................\n"
     ]
    },
    {
     "name": "stderr",
     "output_type": "stream",
     "text": [
      "C:\\Users\\wargr\\anaconda3\\envs\\PythonData\\lib\\site-packages\\sklearn\\utils\\validation.py:72: DataConversionWarning: A column-vector y was passed when a 1d array was expected. Please change the shape of y to (n_samples, ), for example using ravel().\n",
      "  return f(**kwargs)\n"
     ]
    },
    {
     "name": "stdout",
     "output_type": "stream",
     "text": [
      "[CV] .................... C=10, gamma=0.01, score=0.745, total=   9.8s\n",
      "[CV] C=10, gamma=0.01 ................................................\n"
     ]
    },
    {
     "name": "stderr",
     "output_type": "stream",
     "text": [
      "C:\\Users\\wargr\\anaconda3\\envs\\PythonData\\lib\\site-packages\\sklearn\\utils\\validation.py:72: DataConversionWarning: A column-vector y was passed when a 1d array was expected. Please change the shape of y to (n_samples, ), for example using ravel().\n",
      "  return f(**kwargs)\n"
     ]
    },
    {
     "name": "stdout",
     "output_type": "stream",
     "text": [
      "[CV] .................... C=10, gamma=0.01, score=0.667, total=   8.2s\n",
      "[CV] C=10, gamma=0.01 ................................................\n"
     ]
    },
    {
     "name": "stderr",
     "output_type": "stream",
     "text": [
      "C:\\Users\\wargr\\anaconda3\\envs\\PythonData\\lib\\site-packages\\sklearn\\utils\\validation.py:72: DataConversionWarning: A column-vector y was passed when a 1d array was expected. Please change the shape of y to (n_samples, ), for example using ravel().\n",
      "  return f(**kwargs)\n"
     ]
    },
    {
     "name": "stdout",
     "output_type": "stream",
     "text": [
      "[CV] .................... C=10, gamma=0.01, score=0.657, total=  17.9s\n",
      "[CV] C=10, gamma=0.01 ................................................\n"
     ]
    },
    {
     "name": "stderr",
     "output_type": "stream",
     "text": [
      "C:\\Users\\wargr\\anaconda3\\envs\\PythonData\\lib\\site-packages\\sklearn\\utils\\validation.py:72: DataConversionWarning: A column-vector y was passed when a 1d array was expected. Please change the shape of y to (n_samples, ), for example using ravel().\n",
      "  return f(**kwargs)\n"
     ]
    },
    {
     "name": "stdout",
     "output_type": "stream",
     "text": [
      "[CV] .................... C=10, gamma=0.01, score=0.618, total=  14.1s\n"
     ]
    },
    {
     "name": "stderr",
     "output_type": "stream",
     "text": [
      "[Parallel(n_jobs=1)]: Done  45 out of  45 | elapsed:  5.8min finished\n",
      "C:\\Users\\wargr\\anaconda3\\envs\\PythonData\\lib\\site-packages\\sklearn\\utils\\validation.py:72: DataConversionWarning: A column-vector y was passed when a 1d array was expected. Please change the shape of y to (n_samples, ), for example using ravel().\n",
      "  return f(**kwargs)\n"
     ]
    },
    {
     "data": {
      "text/plain": [
       "GridSearchCV(estimator=SVC(kernel='linear'),\n",
       "             param_grid={'C': [1, 5, 10], 'gamma': [0.0001, 0.001, 0.01]},\n",
       "             verbose=3)"
      ]
     },
     "execution_count": 10,
     "metadata": {},
     "output_type": "execute_result"
    }
   ],
   "source": [
    "from sklearn.svm import SVC \n",
    "from sklearn.metrics import accuracy_score\n",
    "\n",
    "model = SVC(kernel='linear')\n",
    "# model.fit(X_train, y_train)\n",
    "\n",
    "# y_pred = model.predict(X_test)\n",
    "\n",
    "from sklearn.model_selection import GridSearchCV\n",
    "\n",
    "param_grid = {'C': [1, 5, 10],\n",
    "              'gamma': [0.0001, 0.001, 0.01]}\n",
    "grid = GridSearchCV(model, param_grid, verbose=3)\n",
    "\n",
    "grid.fit(X_train, y_train)\n",
    "\n",
    "# print(accuracy_score(y_test,y_pred))\n"
   ]
  },
  {
   "cell_type": "code",
   "execution_count": 15,
   "metadata": {},
   "outputs": [
    {
     "name": "stdout",
     "output_type": "stream",
     "text": [
      "Test Acc: 0.653\n"
     ]
    }
   ],
   "source": [
    "print('Test Acc: %.3f' % grid.score(X_test, y_test))"
   ]
  },
  {
   "cell_type": "code",
   "execution_count": 35,
   "metadata": {},
   "outputs": [],
   "source": [
    "final_x = df_2020.drop(['Country'], axis = 1)\n",
    "predict_2021 = grid.predict(final_x)\n"
   ]
  },
  {
   "cell_type": "code",
   "execution_count": 38,
   "metadata": {},
   "outputs": [
    {
     "name": "stdout",
     "output_type": "stream",
     "text": [
      "68\n"
     ]
    }
   ],
   "source": [
    "predict_2021.shape\n",
    "print(len(predict_2021))"
   ]
  },
  {
   "cell_type": "code",
   "execution_count": 40,
   "metadata": {},
   "outputs": [
    {
     "data": {
      "text/html": [
       "<div>\n",
       "<style scoped>\n",
       "    .dataframe tbody tr th:only-of-type {\n",
       "        vertical-align: middle;\n",
       "    }\n",
       "\n",
       "    .dataframe tbody tr th {\n",
       "        vertical-align: top;\n",
       "    }\n",
       "\n",
       "    .dataframe thead th {\n",
       "        text-align: right;\n",
       "    }\n",
       "</style>\n",
       "<table border=\"1\" class=\"dataframe\">\n",
       "  <thead>\n",
       "    <tr style=\"text-align: right;\">\n",
       "      <th></th>\n",
       "      <th>Country</th>\n",
       "      <th>GNI</th>\n",
       "    </tr>\n",
       "  </thead>\n",
       "  <tbody>\n",
       "    <tr>\n",
       "      <th>0</th>\n",
       "      <td>Albania</td>\n",
       "      <td>13</td>\n",
       "    </tr>\n",
       "    <tr>\n",
       "      <th>1</th>\n",
       "      <td>Angola</td>\n",
       "      <td>1</td>\n",
       "    </tr>\n",
       "    <tr>\n",
       "      <th>2</th>\n",
       "      <td>Armenia</td>\n",
       "      <td>10</td>\n",
       "    </tr>\n",
       "    <tr>\n",
       "      <th>3</th>\n",
       "      <td>Azerbaijan</td>\n",
       "      <td>15</td>\n",
       "    </tr>\n",
       "    <tr>\n",
       "      <th>4</th>\n",
       "      <td>Bangladesh</td>\n",
       "      <td>4</td>\n",
       "    </tr>\n",
       "    <tr>\n",
       "      <th>...</th>\n",
       "      <td>...</td>\n",
       "      <td>...</td>\n",
       "    </tr>\n",
       "    <tr>\n",
       "      <th>66</th>\n",
       "      <td>Uganda</td>\n",
       "      <td>2</td>\n",
       "    </tr>\n",
       "    <tr>\n",
       "      <th>68</th>\n",
       "      <td>Vietnam</td>\n",
       "      <td>5</td>\n",
       "    </tr>\n",
       "    <tr>\n",
       "      <th>69</th>\n",
       "      <td>Yemen</td>\n",
       "      <td>3</td>\n",
       "    </tr>\n",
       "    <tr>\n",
       "      <th>70</th>\n",
       "      <td>Zambia</td>\n",
       "      <td>3</td>\n",
       "    </tr>\n",
       "    <tr>\n",
       "      <th>71</th>\n",
       "      <td>Zimbabwe</td>\n",
       "      <td>3</td>\n",
       "    </tr>\n",
       "  </tbody>\n",
       "</table>\n",
       "<p>68 rows × 2 columns</p>\n",
       "</div>"
      ],
      "text/plain": [
       "       Country  GNI\n",
       "0      Albania   13\n",
       "1       Angola    1\n",
       "2      Armenia   10\n",
       "3   Azerbaijan   15\n",
       "4   Bangladesh    4\n",
       "..         ...  ...\n",
       "66      Uganda    2\n",
       "68     Vietnam    5\n",
       "69       Yemen    3\n",
       "70      Zambia    3\n",
       "71    Zimbabwe    3\n",
       "\n",
       "[68 rows x 2 columns]"
      ]
     },
     "execution_count": 40,
     "metadata": {},
     "output_type": "execute_result"
    }
   ],
   "source": [
    "df_2021_prediction = df_2020.filter(['Country'])\n",
    "df_2021_prediction['GNI'] = predict_2021\n",
    "df_2021_prediction\n"
   ]
  },
  {
   "cell_type": "code",
   "execution_count": 16,
   "metadata": {},
   "outputs": [
    {
     "name": "stdout",
     "output_type": "stream",
     "text": [
      "{'C': 5, 'gamma': 0.0001}\n"
     ]
    }
   ],
   "source": [
    "print(grid.best_params_)"
   ]
  },
  {
   "cell_type": "code",
   "execution_count": 19,
   "metadata": {},
   "outputs": [
    {
     "data": {
      "text/plain": [
       "array([ 5,  2,  1,  3,  3,  4,  3,  4,  3,  4,  2,  3,  5,  2,  1, 15,  2,\n",
       "        2,  6,  9,  7,  4,  2,  4,  2,  1,  3,  2, 10,  2, 10, 10,  3,  1,\n",
       "        7,  2,  3, 14,  2,  2,  3,  3,  3,  1,  2,  6,  6,  5,  9,  3,  4,\n",
       "        1, 14,  1, 12,  2,  5,  3,  2, 16,  3,  2,  3,  6,  4,  5,  7,  5,\n",
       "        2,  3,  5,  2,  2, 17,  1,  9,  5,  6,  8,  1,  1,  9,  2, 11,  2,\n",
       "        6,  3,  1,  3,  2,  1,  1,  2,  3, 16, 11,  3,  3,  5,  4,  3, 13,\n",
       "       10,  2, 12,  2,  3, 10,  5,  3, 10,  2,  4,  5,  2,  3,  2,  7,  3,\n",
       "        2,  7,  2,  7,  1,  3,  3,  4, 22, 12,  4,  3,  7,  5,  5,  9,  7,\n",
       "        3,  2,  8, 10,  9,  2,  4,  1,  2,  1,  4,  3, 17,  1,  2, 13,  2,\n",
       "        1, 13,  8,  2,  7,  4, 11,  2,  3,  7,  3,  3,  5,  2,  3,  1, 12],\n",
       "      dtype=int64)"
      ]
     },
     "execution_count": 19,
     "metadata": {},
     "output_type": "execute_result"
    }
   ],
   "source": [
    "prediction = grid.predict(X_test)\n",
    "prediction"
   ]
  },
  {
   "cell_type": "code",
   "execution_count": 29,
   "metadata": {},
   "outputs": [
    {
     "data": {
      "text/html": [
       "<div>\n",
       "<style scoped>\n",
       "    .dataframe tbody tr th:only-of-type {\n",
       "        vertical-align: middle;\n",
       "    }\n",
       "\n",
       "    .dataframe tbody tr th {\n",
       "        vertical-align: top;\n",
       "    }\n",
       "\n",
       "    .dataframe thead th {\n",
       "        text-align: right;\n",
       "    }\n",
       "</style>\n",
       "<table border=\"1\" class=\"dataframe\">\n",
       "  <thead>\n",
       "    <tr style=\"text-align: right;\">\n",
       "      <th></th>\n",
       "      <th>0</th>\n",
       "    </tr>\n",
       "  </thead>\n",
       "  <tbody>\n",
       "    <tr>\n",
       "      <th>0</th>\n",
       "      <td>5</td>\n",
       "    </tr>\n",
       "    <tr>\n",
       "      <th>1</th>\n",
       "      <td>2</td>\n",
       "    </tr>\n",
       "    <tr>\n",
       "      <th>2</th>\n",
       "      <td>1</td>\n",
       "    </tr>\n",
       "    <tr>\n",
       "      <th>3</th>\n",
       "      <td>3</td>\n",
       "    </tr>\n",
       "    <tr>\n",
       "      <th>4</th>\n",
       "      <td>3</td>\n",
       "    </tr>\n",
       "    <tr>\n",
       "      <th>...</th>\n",
       "      <td>...</td>\n",
       "    </tr>\n",
       "    <tr>\n",
       "      <th>165</th>\n",
       "      <td>5</td>\n",
       "    </tr>\n",
       "    <tr>\n",
       "      <th>166</th>\n",
       "      <td>2</td>\n",
       "    </tr>\n",
       "    <tr>\n",
       "      <th>167</th>\n",
       "      <td>3</td>\n",
       "    </tr>\n",
       "    <tr>\n",
       "      <th>168</th>\n",
       "      <td>1</td>\n",
       "    </tr>\n",
       "    <tr>\n",
       "      <th>169</th>\n",
       "      <td>12</td>\n",
       "    </tr>\n",
       "  </tbody>\n",
       "</table>\n",
       "<p>170 rows × 1 columns</p>\n",
       "</div>"
      ],
      "text/plain": [
       "      0\n",
       "0     5\n",
       "1     2\n",
       "2     1\n",
       "3     3\n",
       "4     3\n",
       "..   ..\n",
       "165   5\n",
       "166   2\n",
       "167   3\n",
       "168   1\n",
       "169  12\n",
       "\n",
       "[170 rows x 1 columns]"
      ]
     },
     "execution_count": 29,
     "metadata": {},
     "output_type": "execute_result"
    }
   ],
   "source": [
    "y_pred = grid.predict(X_test)\n",
    "\n",
    "y_pred = pd.DataFrame(y_pred)\n",
    "# y_out = X_test\n",
    "# y_out = y_out.join(y_test)\n",
    "# y_out = y_out.join(y_pred)\n",
    "# y_out\n",
    "\n",
    "# pred_table = y_pred.join(X)\n",
    "y_pred"
   ]
  },
  {
   "cell_type": "code",
   "execution_count": 26,
   "metadata": {},
   "outputs": [
    {
     "data": {
      "text/html": [
       "<div>\n",
       "<style scoped>\n",
       "    .dataframe tbody tr th:only-of-type {\n",
       "        vertical-align: middle;\n",
       "    }\n",
       "\n",
       "    .dataframe tbody tr th {\n",
       "        vertical-align: top;\n",
       "    }\n",
       "\n",
       "    .dataframe thead th {\n",
       "        text-align: right;\n",
       "    }\n",
       "</style>\n",
       "<table border=\"1\" class=\"dataframe\">\n",
       "  <thead>\n",
       "    <tr style=\"text-align: right;\">\n",
       "      <th></th>\n",
       "      <th>GNI</th>\n",
       "      <th>DR</th>\n",
       "      <th>SC</th>\n",
       "      <th>3BD</th>\n",
       "      <th>HOS</th>\n",
       "      <th>LifeEx</th>\n",
       "      <th>pop</th>\n",
       "      <th>urb</th>\n",
       "      <th>WLE</th>\n",
       "      <th>WUE</th>\n",
       "      <th>MYE</th>\n",
       "      <th>MAE</th>\n",
       "      <th>MLE</th>\n",
       "      <th>MUE</th>\n",
       "      <th>WAE</th>\n",
       "    </tr>\n",
       "  </thead>\n",
       "  <tbody>\n",
       "    <tr>\n",
       "      <th>0</th>\n",
       "      <td>5</td>\n",
       "      <td>54.0</td>\n",
       "      <td>21.4</td>\n",
       "      <td>23.2</td>\n",
       "      <td>4.58</td>\n",
       "      <td>76.6</td>\n",
       "      <td>2.92</td>\n",
       "      <td>46.7</td>\n",
       "      <td>55.5</td>\n",
       "      <td>22.60</td>\n",
       "      <td>9.45</td>\n",
       "      <td>21.60</td>\n",
       "      <td>69.6</td>\n",
       "      <td>8.83</td>\n",
       "      <td>22.00</td>\n",
       "    </tr>\n",
       "    <tr>\n",
       "      <th>1</th>\n",
       "      <td>2</td>\n",
       "      <td>99.7</td>\n",
       "      <td>37.2</td>\n",
       "      <td>22.9</td>\n",
       "      <td>6.30</td>\n",
       "      <td>55.4</td>\n",
       "      <td>23.50</td>\n",
       "      <td>43.7</td>\n",
       "      <td>46.4</td>\n",
       "      <td>7.26</td>\n",
       "      <td>5.57</td>\n",
       "      <td>34.50</td>\n",
       "      <td>45.5</td>\n",
       "      <td>19.90</td>\n",
       "      <td>46.30</td>\n",
       "    </tr>\n",
       "    <tr>\n",
       "      <th>2</th>\n",
       "      <td>1</td>\n",
       "      <td>43.8</td>\n",
       "      <td>20.6</td>\n",
       "      <td>28.5</td>\n",
       "      <td>4.55</td>\n",
       "      <td>73.3</td>\n",
       "      <td>2.88</td>\n",
       "      <td>61.9</td>\n",
       "      <td>39.2</td>\n",
       "      <td>46.70</td>\n",
       "      <td>11.40</td>\n",
       "      <td>9.63</td>\n",
       "      <td>72.4</td>\n",
       "      <td>18.00</td>\n",
       "      <td>14.10</td>\n",
       "    </tr>\n",
       "    <tr>\n",
       "      <th>3</th>\n",
       "      <td>3</td>\n",
       "      <td>50.9</td>\n",
       "      <td>26.4</td>\n",
       "      <td>13.8</td>\n",
       "      <td>5.02</td>\n",
       "      <td>70.9</td>\n",
       "      <td>8.49</td>\n",
       "      <td>55.2</td>\n",
       "      <td>33.1</td>\n",
       "      <td>49.00</td>\n",
       "      <td>10.60</td>\n",
       "      <td>13.10</td>\n",
       "      <td>66.5</td>\n",
       "      <td>20.40</td>\n",
       "      <td>17.90</td>\n",
       "    </tr>\n",
       "    <tr>\n",
       "      <th>4</th>\n",
       "      <td>3</td>\n",
       "      <td>68.5</td>\n",
       "      <td>42.5</td>\n",
       "      <td>27.1</td>\n",
       "      <td>6.09</td>\n",
       "      <td>69.9</td>\n",
       "      <td>148.00</td>\n",
       "      <td>23.9</td>\n",
       "      <td>77.5</td>\n",
       "      <td>12.20</td>\n",
       "      <td>4.44</td>\n",
       "      <td>29.40</td>\n",
       "      <td>58.3</td>\n",
       "      <td>12.20</td>\n",
       "      <td>10.30</td>\n",
       "    </tr>\n",
       "    <tr>\n",
       "      <th>...</th>\n",
       "      <td>...</td>\n",
       "      <td>...</td>\n",
       "      <td>...</td>\n",
       "      <td>...</td>\n",
       "      <td>...</td>\n",
       "      <td>...</td>\n",
       "      <td>...</td>\n",
       "      <td>...</td>\n",
       "      <td>...</td>\n",
       "      <td>...</td>\n",
       "      <td>...</td>\n",
       "      <td>...</td>\n",
       "      <td>...</td>\n",
       "      <td>...</td>\n",
       "      <td>...</td>\n",
       "    </tr>\n",
       "    <tr>\n",
       "      <th>165</th>\n",
       "      <td>5</td>\n",
       "      <td>66.4</td>\n",
       "      <td>21.6</td>\n",
       "      <td>22.2</td>\n",
       "      <td>5.63</td>\n",
       "      <td>73.8</td>\n",
       "      <td>8.65</td>\n",
       "      <td>49.1</td>\n",
       "      <td>68.8</td>\n",
       "      <td>13.90</td>\n",
       "      <td>6.34</td>\n",
       "      <td>43.30</td>\n",
       "      <td>45.7</td>\n",
       "      <td>11.10</td>\n",
       "      <td>17.30</td>\n",
       "    </tr>\n",
       "    <tr>\n",
       "      <th>166</th>\n",
       "      <td>2</td>\n",
       "      <td>55.2</td>\n",
       "      <td>41.9</td>\n",
       "      <td>22.3</td>\n",
       "      <td>5.85</td>\n",
       "      <td>67.5</td>\n",
       "      <td>1266.00</td>\n",
       "      <td>31.6</td>\n",
       "      <td>40.0</td>\n",
       "      <td>9.87</td>\n",
       "      <td>5.87</td>\n",
       "      <td>32.10</td>\n",
       "      <td>59.1</td>\n",
       "      <td>8.81</td>\n",
       "      <td>50.10</td>\n",
       "    </tr>\n",
       "    <tr>\n",
       "      <th>167</th>\n",
       "      <td>3</td>\n",
       "      <td>65.1</td>\n",
       "      <td>7.8</td>\n",
       "      <td>36.3</td>\n",
       "      <td>6.31</td>\n",
       "      <td>73.7</td>\n",
       "      <td>8.09</td>\n",
       "      <td>82.4</td>\n",
       "      <td>29.7</td>\n",
       "      <td>67.50</td>\n",
       "      <td>10.60</td>\n",
       "      <td>3.28</td>\n",
       "      <td>75.0</td>\n",
       "      <td>21.70</td>\n",
       "      <td>2.74</td>\n",
       "    </tr>\n",
       "    <tr>\n",
       "      <th>168</th>\n",
       "      <td>1</td>\n",
       "      <td>51.2</td>\n",
       "      <td>11.1</td>\n",
       "      <td>24.4</td>\n",
       "      <td>4.55</td>\n",
       "      <td>68.8</td>\n",
       "      <td>16.80</td>\n",
       "      <td>53.5</td>\n",
       "      <td>64.2</td>\n",
       "      <td>50.10</td>\n",
       "      <td>11.70</td>\n",
       "      <td>6.20</td>\n",
       "      <td>68.6</td>\n",
       "      <td>25.20</td>\n",
       "      <td>1.24</td>\n",
       "    </tr>\n",
       "    <tr>\n",
       "      <th>169</th>\n",
       "      <td>12</td>\n",
       "      <td>89.4</td>\n",
       "      <td>29.2</td>\n",
       "      <td>17.4</td>\n",
       "      <td>5.56</td>\n",
       "      <td>62.7</td>\n",
       "      <td>44.40</td>\n",
       "      <td>29.4</td>\n",
       "      <td>44.3</td>\n",
       "      <td>20.10</td>\n",
       "      <td>7.82</td>\n",
       "      <td>26.90</td>\n",
       "      <td>51.4</td>\n",
       "      <td>21.80</td>\n",
       "      <td>35.60</td>\n",
       "    </tr>\n",
       "  </tbody>\n",
       "</table>\n",
       "<p>170 rows × 15 columns</p>\n",
       "</div>"
      ],
      "text/plain": [
       "     GNI    DR    SC   3BD   HOS  LifeEx      pop   urb   WLE    WUE    MYE  \\\n",
       "0      5  54.0  21.4  23.2  4.58    76.6     2.92  46.7  55.5  22.60   9.45   \n",
       "1      2  99.7  37.2  22.9  6.30    55.4    23.50  43.7  46.4   7.26   5.57   \n",
       "2      1  43.8  20.6  28.5  4.55    73.3     2.88  61.9  39.2  46.70  11.40   \n",
       "3      3  50.9  26.4  13.8  5.02    70.9     8.49  55.2  33.1  49.00  10.60   \n",
       "4      3  68.5  42.5  27.1  6.09    69.9   148.00  23.9  77.5  12.20   4.44   \n",
       "..   ...   ...   ...   ...   ...     ...      ...   ...   ...    ...    ...   \n",
       "165    5  66.4  21.6  22.2  5.63    73.8     8.65  49.1  68.8  13.90   6.34   \n",
       "166    2  55.2  41.9  22.3  5.85    67.5  1266.00  31.6  40.0   9.87   5.87   \n",
       "167    3  65.1   7.8  36.3  6.31    73.7     8.09  82.4  29.7  67.50  10.60   \n",
       "168    1  51.2  11.1  24.4  4.55    68.8    16.80  53.5  64.2  50.10  11.70   \n",
       "169   12  89.4  29.2  17.4  5.56    62.7    44.40  29.4  44.3  20.10   7.82   \n",
       "\n",
       "       MAE   MLE    MUE    WAE  \n",
       "0    21.60  69.6   8.83  22.00  \n",
       "1    34.50  45.5  19.90  46.30  \n",
       "2     9.63  72.4  18.00  14.10  \n",
       "3    13.10  66.5  20.40  17.90  \n",
       "4    29.40  58.3  12.20  10.30  \n",
       "..     ...   ...    ...    ...  \n",
       "165  43.30  45.7  11.10  17.30  \n",
       "166  32.10  59.1   8.81  50.10  \n",
       "167   3.28  75.0  21.70   2.74  \n",
       "168   6.20  68.6  25.20   1.24  \n",
       "169  26.90  51.4  21.80  35.60  \n",
       "\n",
       "[170 rows x 15 columns]"
      ]
     },
     "execution_count": 26,
     "metadata": {},
     "output_type": "execute_result"
    }
   ],
   "source": [
    "pred_table.columns = [\"GNI\",\"DR\",\"SC\",\"3BD\",\"HOS\",\"LifeEx\",\"pop\",\"urb\",\"WLE\",\"WUE\",\"MYE\",\"MAE\",\"MLE\",\"MUE\",\"WAE\"]\n",
    "pred_table"
   ]
  },
  {
   "cell_type": "code",
   "execution_count": 30,
   "metadata": {},
   "outputs": [
    {
     "data": {
      "text/html": [
       "<div>\n",
       "<style scoped>\n",
       "    .dataframe tbody tr th:only-of-type {\n",
       "        vertical-align: middle;\n",
       "    }\n",
       "\n",
       "    .dataframe tbody tr th {\n",
       "        vertical-align: top;\n",
       "    }\n",
       "\n",
       "    .dataframe thead th {\n",
       "        text-align: right;\n",
       "    }\n",
       "</style>\n",
       "<table border=\"1\" class=\"dataframe\">\n",
       "  <thead>\n",
       "    <tr style=\"text-align: right;\">\n",
       "      <th></th>\n",
       "      <th>0</th>\n",
       "      <th>GNI/C 2021</th>\n",
       "    </tr>\n",
       "  </thead>\n",
       "  <tbody>\n",
       "    <tr>\n",
       "      <th>0</th>\n",
       "      <td>5</td>\n",
       "      <td>5</td>\n",
       "    </tr>\n",
       "    <tr>\n",
       "      <th>1</th>\n",
       "      <td>2</td>\n",
       "      <td>2</td>\n",
       "    </tr>\n",
       "    <tr>\n",
       "      <th>2</th>\n",
       "      <td>1</td>\n",
       "      <td>1</td>\n",
       "    </tr>\n",
       "    <tr>\n",
       "      <th>3</th>\n",
       "      <td>3</td>\n",
       "      <td>3</td>\n",
       "    </tr>\n",
       "    <tr>\n",
       "      <th>4</th>\n",
       "      <td>3</td>\n",
       "      <td>3</td>\n",
       "    </tr>\n",
       "    <tr>\n",
       "      <th>...</th>\n",
       "      <td>...</td>\n",
       "      <td>...</td>\n",
       "    </tr>\n",
       "    <tr>\n",
       "      <th>165</th>\n",
       "      <td>5</td>\n",
       "      <td>5</td>\n",
       "    </tr>\n",
       "    <tr>\n",
       "      <th>166</th>\n",
       "      <td>2</td>\n",
       "      <td>2</td>\n",
       "    </tr>\n",
       "    <tr>\n",
       "      <th>167</th>\n",
       "      <td>3</td>\n",
       "      <td>3</td>\n",
       "    </tr>\n",
       "    <tr>\n",
       "      <th>168</th>\n",
       "      <td>1</td>\n",
       "      <td>1</td>\n",
       "    </tr>\n",
       "    <tr>\n",
       "      <th>169</th>\n",
       "      <td>12</td>\n",
       "      <td>12</td>\n",
       "    </tr>\n",
       "  </tbody>\n",
       "</table>\n",
       "<p>170 rows × 2 columns</p>\n",
       "</div>"
      ],
      "text/plain": [
       "      0  GNI/C 2021\n",
       "0     5           5\n",
       "1     2           2\n",
       "2     1           1\n",
       "3     3           3\n",
       "4     3           3\n",
       "..   ..         ...\n",
       "165   5           5\n",
       "166   2           2\n",
       "167   3           3\n",
       "168   1           1\n",
       "169  12          12\n",
       "\n",
       "[170 rows x 2 columns]"
      ]
     },
     "execution_count": 30,
     "metadata": {},
     "output_type": "execute_result"
    }
   ],
   "source": [
    "y_pred['GNI/C 2021'] = prediction\n",
    "y_pred"
   ]
  },
  {
   "cell_type": "code",
   "execution_count": null,
   "metadata": {},
   "outputs": [],
   "source": []
  }
 ],
 "metadata": {
  "kernel_info": {
   "name": "dev"
  },
  "kernelspec": {
   "display_name": "PythonData",
   "language": "python",
   "name": "pythondata"
  },
  "language_info": {
   "codemirror_mode": {
    "name": "ipython",
    "version": 3
   },
   "file_extension": ".py",
   "mimetype": "text/x-python",
   "name": "python",
   "nbconvert_exporter": "python",
   "pygments_lexer": "ipython3",
   "version": "3.8.5"
  },
  "nteract": {
   "version": "0.12.3"
  }
 },
 "nbformat": 4,
 "nbformat_minor": 4
}
